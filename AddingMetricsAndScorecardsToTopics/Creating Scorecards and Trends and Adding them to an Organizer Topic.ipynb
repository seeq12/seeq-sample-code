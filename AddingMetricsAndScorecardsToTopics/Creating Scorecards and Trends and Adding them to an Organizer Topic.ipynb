{
 "cells": [
  {
   "cell_type": "markdown",
   "metadata": {},
   "source": [
    "# Creating Scorecards and Trends and Putting them into an Organizer Topic Document\n",
    "## Introduction\n",
    "Algorithmically creating topics using Seeq's REST API can be done using any programming language.  This tutorial will walk through creating these object using Python 2.7 and Seeq's SDK.\n",
    "\n",
    "The tutorial will show how to create a new Organizer containing a new Topic and modifying the text shown in the topic.  Once this has been accomplished, I recommend that you check out the _Embedding Metrics and Trends using the API_ tutorial to see how to create and include Seeq content.\n",
    "\n",
    "Note that doing these kinds of operations through the API circumvents all of the front-end's safety checks.  It is **highly recommended** that you develop on a local machine and test all code thoroughly **before using your code on an active server**. You should probably also **back that server up**. As an example of what can go wrong, forgetting the `\"`'s in the `workbook_input.data` JSON will render the server unreachable by all...and potentially unfixable!\n"
   ]
  },
  {
   "cell_type": "markdown",
   "metadata": {},
   "source": [
    "## Creating and Embedding Scorecards and Trends\n",
    "Creating both scorecards and trends is very similar.  It boils down to creating the desired content using the appropriate endpoint (only required when making the metric), setting Worksteps to show the content you want, then creating screenshots of those Worksteps.  The final piece of the puzzle is to embed those screenshots in the topic documents, which is done using many of the same tools that are shown in the _Creating Organizer Topics using the API_ tutorial.\n",
    "\n",
    "The basic process for creating a scorecard or trend view and putting it into a document is:\n",
    "1. Create a Workbench Analysis Worksheet to display the view.\n",
    "1. Create a Metric for our scorecard based on a signal, condition, and aggregation method (or one of the other kinds of metrics).\n",
    "1. Update the Worksheet to show the scorecard or trend view.\n",
    "1. Generate a screenshot of the view based on the Date Range.\n",
    "1. Embed the screenshot into the Organizer Topic document."
   ]
  },
  {
   "cell_type": "markdown",
   "metadata": {},
   "source": [
    "### Setting up the Environment"
   ]
  },
  {
   "cell_type": "code",
   "execution_count": null,
   "metadata": {},
   "outputs": [],
   "source": [
    "# import the Seeq SDK for communicating with Seeq (I installed this from the egg distributed with Seeq and easy_install)\n",
    "import seeq_sdk as sdk\n",
    "# import Jinja2 for creating html templates to post in the document\n",
    "import jinja2 as ji\n",
    "# import uuid so that we can create UUID's (aka GUIDs) for our objects\n",
    "from uuid import uuid4\n",
    "# import json so that to parse objects\n",
    "import json\n",
    "# import datetime for working with times\n",
    "from datetime import datetime as dt\n",
    "# import copy so that we can use templates\n",
    "import copy"
   ]
  },
  {
   "cell_type": "markdown",
   "metadata": {},
   "source": [
    "### Connecting to Seeq\n",
    "This is the basic stuff.  Note that these are dummy credentials for a local installation which will not work on your machine or in the cloud."
   ]
  },
  {
   "cell_type": "code",
   "execution_count": null,
   "metadata": {},
   "outputs": [],
   "source": [
    "# create the API client\n",
    "api_client = sdk.ApiClient(\"http://localhost:34216/api\", None, None)\n",
    "\n",
    "# get the clent authoization and login\n",
    "auth_input = sdk.AuthInputV1(username='seth.gilchrist@seeq.com', password='testpass')\n",
    "auth_api = sdk.AuthApi(api_client)\n",
    "auth_output = auth_api.login(body=auth_input)"
   ]
  },
  {
   "cell_type": "markdown",
   "metadata": {},
   "source": [
    "### Creating a Workbench Analysis\n",
    "The Workbench Analysis is created in a very similar manner to the Organizer Topic.  I will not go into detail on creating the analysis, as there is another how-to focused on that.  We will leave the Workstep uninitialized and create it after we have our Metric."
   ]
  },
  {
   "cell_type": "code",
   "execution_count": null,
   "metadata": {},
   "outputs": [],
   "source": [
    "# create the Analysis\n",
    "analysis_input = sdk.WorkbookInputV1()\n",
    "analysis_input.name = \"API Created Analysis\"\n",
    "analysis_output = workbook_api.create_workbook(body=analysis_input)\n",
    "\n",
    "# create the worksheet\n",
    "worksheet_input = sdk.WorksheetInputV1()\n",
    "worksheet_input.name = \"API Created Worksheet\"\n",
    "worksheet_output = workbook_api.create_worksheet(workbook_id=analysis_output.id, body=worksheet_input)\n",
    "\n",
    "# set the initial workbook state\n",
    "analysis_property_input = sdk.PropertyInputV1()\n",
    "analysis_property_input.unit_of_measure = 'string'\n",
    "analysis_property_input.value = '{\"version\":1,\"state\":{\"stores\":{}}}'\n",
    "analysis_state_output = items_api.set_property(id=analysis_output.id,\n",
    "                                               property_name='workbookState',\n",
    "                                               body=analysis_property_input)\n",
    "print(\"Workbook ID: {0}\\nWorksheet ID: {1}\".format(analysis_output.id, worksheet_output.id))"
   ]
  },
  {
   "cell_type": "markdown",
   "metadata": {},
   "source": [
    "### Creating the Scorecard Metric\n",
    "To create the metric, we need to have a signal ID and a condition ID against which to perform our calculations, and a aggregation function that we want to use to summarize the signal over the condition's capsules.  I will get my IDs from the Seeq interface, but they could come from API generated signals and conditions as well.  To replicate my example, you can use the IDs of the signals and conditions defined below.\n",
    "\n",
    "Signal ID: ID of the example data `Example >> Cooling Tower 1 >> Area A >> Compressor Power`\n",
    "\n",
    "Condition ID: ID of a value search on the signal above with a formula of\n",
    "\n",
    "`$a.validValues().valueSearch(1day, isGreaterThan(25), 0min, isLessThanOrEqualTo(25), 0min)`\n",
    "\n",
    "Once we have these IDs, we can use the Metrics API endpoint to create our metric.  I will be aggregating over the maximum value of the signal during the capsules (hence `aggregation_function = maxValue()`), but other aggregators are available.  To find the formula for the one you are interested in, create a scorecard with your target aggregator and examine the items properties in Seeq.\n",
    "\n",
    "Note that `scoped_to` provides search scope for our metric, it's best to scope it to our Workbench Analysis so that it doesn't pollute other search locations. Also, instantiating `threasholds` to an empty list is required."
   ]
  },
  {
   "cell_type": "code",
   "execution_count": null,
   "metadata": {},
   "outputs": [],
   "source": [
    "metric_input = sdk.ThresholdMetricInputV1()\n",
    "metric_input.name = 'API Created Metric 1'\n",
    "metric_input.measured_item = \"5D9A8558-F592-4C3B-8361-D88FDD52F916\"\n",
    "metric_input.bounding_condition = \"809E03A9-3949-4087-86D5-4B47FE3B2F8E\"\n",
    "metric_input.aggregation_function = \"maxValue()\"\n",
    "metric_input.scoped_to = analysis_output.id\n",
    "metric_input.thresholds = []\n",
    "\n",
    "metric_api = sdk.MetricsApi(api_client)\n",
    "metric_output = metric_api.create_threshold_metric(body=metric_input)\n",
    "print(metric_output)"
   ]
  },
  {
   "cell_type": "markdown",
   "metadata": {},
   "source": [
    "Now that the metric has been created, we will make a scorecard from it, which is done using a Workstep.  We will create a Workstep that shows the metric in a scorecard by applying appropriate values to two dateStores: the sqWorksheetStore, in which we set the `viewKey` to `SCORECARD` (an alternative being `TREND`) and an sqTrendMetricStore in which we tell Seeq how our Metric should be displayed.  You may want to play around with the `scorecardHeaders` to get them how you want."
   ]
  },
  {
   "cell_type": "code",
   "execution_count": null,
   "metadata": {},
   "outputs": [],
   "source": [
    "worksheet_store = '\\\n",
    "{\\\n",
    "    \"tabsets\": {\\\n",
    "        \"sidebar\": 1\\\n",
    "    },\\\n",
    "    \"viewKey\": \"SCORECARD\",\\\n",
    "    \"browsePanelCollapsed\": false,\\\n",
    "    \"displayWidth\": 850,\\\n",
    "    \"displayHeight\": 575,\\\n",
    "    \"resizeEnabled\": true\\\n",
    "}'\n",
    "\n",
    "trend_metric_template = '\\\n",
    "{\\\n",
    "    \"scorecardHeaders\": {\\\n",
    "        \"type\": \"start\",\\\n",
    "        \"format\": \"lll\"\\\n",
    "    },\\\n",
    "    \"scorecardColumns\": [\\\n",
    "        {\\\n",
    "            \"type\": \"name\",\\\n",
    "            \"backgroundColor\": \"#ffffff\"\\\n",
    "        }],\\\n",
    "    \"dataStatus\": \"itemDataPresent\",\\\n",
    "    \"warningCount\": 0,\\\n",
    "    \"warningLogs\": [],\\\n",
    "    \"items\": [\\\n",
    "        {\\\n",
    "            \"axisAlign\": \"B\",\\\n",
    "            \"axisAutoScale\": true,\\\n",
    "            \"lane\": 2,\\\n",
    "            \"rightAxis\": false,\\\n",
    "            \"dashStyle\": \"Solid\",\\\n",
    "            \"lineWidth\": 1,\\\n",
    "            \"autoDisabled\": false,\\\n",
    "            \"axisVisibility\": true,\\\n",
    "            \"yAxisConfig\": {\\\n",
    "              \"min\": -1.14,\\\n",
    "              \"max\": 1.14\\\n",
    "            },\\\n",
    "            \"yAxisMin\": -1,\\\n",
    "            \"yAxisMax\": 1,\\\n",
    "            \"sampleDisplayOption\": \"line\",\\\n",
    "            \"id\": \"ID\",\\\n",
    "            \"name\": \"name\",\\\n",
    "            \"selected\": false,\\\n",
    "            \"color\": \"#9D248F\",\\\n",
    "            \"scorecardOrder\": 0\\\n",
    "        }]\\\n",
    "}'\n",
    "\n",
    "trend_metric_json = json.loads(trend_metric_template)\n",
    "trend_metric_json['items'][0]['id'] = metric_output.id\n",
    "trend_metric_json['items'][0]['name'] = metric_output.name\n",
    "\n",
    "data_store = '{{\"sqWorksheetStore\": {0}, \"sqTrendMetricStore\": {1} }}'.format(worksheet_store, json.dumps(trend_metric_json))\n",
    "\n",
    "analysis_workstep_input = sdk.WorkstepInputV1()\n",
    "analysis_workstep_input.data = '{{\"version\":23,\"state\":{{\"stores\": {0} }} }}'.format(data_store)\n",
    "\n",
    "analysis_workstep_output = workbook_api.create_workstep(workbook_id=analysis_output.id,\n",
    "                                                        worksheet_id=worksheet_output.id,\n",
    "                                                        body=analysis_workstep_input)\n",
    "print(analysis_workstep_output)"
   ]
  },
  {
   "cell_type": "markdown",
   "metadata": {},
   "source": [
    "You can now surf over to Seeq, open the Analysis and see the scorecard that you've created."
   ]
  },
  {
   "cell_type": "markdown",
   "metadata": {},
   "source": [
    "### Creating a Trend View\n",
    "Creating scorecads is all well and good, but what about creating a trend view?  If we know what signals and conditions comprise a scorecard, then we can setup a trend showing them as well.\n",
    "\n",
    "This can be done 100% algorithmically, but I would recommend setting up the trend just how you like it, grabbing a copy of the worksheet dataStore, and using that as a template.  From there, you can swap signals in and out, but most likely you'll be modifying only the date range of the trend view."
   ]
  },
  {
   "cell_type": "markdown",
   "metadata": {},
   "source": [
    "A typical workflow for embedding both a scorecard and trend in a topic would be the following:\n",
    "* create the metric $\\checkmark$\n",
    "* create a Worksheet showing the metric $\\checkmark$\n",
    "* generate a screenshot of it (our next step)\n",
    "* update the Worksheet's Workstep to show the trend\n",
    "* generate a screenshot of that\n",
    "Using this workflow you have one Worksheet that is used for both the scorecard and trend views.\n",
    "\n",
    "While it's slightly out of sequence, I'm going to create the trend-view workstep now so that we can do the screenshots in quick succession."
   ]
  },
  {
   "cell_type": "markdown",
   "metadata": {},
   "source": [
    "Including signals in a trend view is done using the `sqTrendSeriesStore`, and including the condition is done using the `sqTrendCapsuleSetStore`.  Setting the view parameters happens in a few places in the dataStore, but the most important ones are in the `sqWorksheetStore`.  Let's define our parameters for these stores."
   ]
  },
  {
   "cell_type": "code",
   "execution_count": null,
   "metadata": {},
   "outputs": [],
   "source": [
    "# We already have an sqWorksheetStore template, so we'll just update it.\n",
    "worksheet_store_json = json.loads(worksheet_store)\n",
    "worksheet_store_json['viewKey'] = \"TREND\"\n",
    "\n",
    "# now for the other two\n",
    "trend_series_store = '\\\n",
    "{\\\n",
    "    \"items\": [\\\n",
    "        {\\\n",
    "            \"axisAlign\": \"A\",\\\n",
    "            \"axisAutoScale\": true,\\\n",
    "            \"lane\": 1,\\\n",
    "            \"rightAxis\": false,\\\n",
    "            \"dashStyle\": \"Solid\",\\\n",
    "            \"lineWidth\": 1,\\\n",
    "            \"autoDisabled\": false,\\\n",
    "            \"axisVisibility\": true,\\\n",
    "            \"yAxisConfig\": {\\\n",
    "              \"min\": -1.2482005542500003,\\\n",
    "              \"max\": 37.00042770425\\\n",
    "            },\\\n",
    "            \"yAxisMin\": 0.0029228,\\\n",
    "            \"yAxisMax\": 35.74930435,\\\n",
    "            \"sampleDisplayOption\": \"line\",\\\n",
    "            \"id\": \"\",\\\n",
    "            \"name\": \"\",\\\n",
    "            \"selected\": false,\\\n",
    "            \"color\": \"#E1498E\",\\\n",
    "            \"valueUnitOfMeasure\": \"\"\\\n",
    "          }\\\n",
    "    ],\\\n",
    "        \"editingId\": null,\\\n",
    "        \"previewSeriesDefinition\": {}\\\n",
    "}'\n",
    "trend_series_json = json.loads(trend_series_store)\n",
    "# everything we need to know about the series we want to show is in metric_output, except for the unit of measure.\n",
    "# However, the metric has the same UOM as the measured item, so we'll just use that.\n",
    "trend_series_json['items'][0]['id'] = metric_output.measured_item.id\n",
    "trend_series_json['items'][0]['name'] = metric_output.measured_item.name\n",
    "trend_series_json['items'][0]['valueUnitOfMeasure'] = metric_output.value_unit_of_measure\n",
    "\n",
    "trend_capsule_set_store = '\\\n",
    "{\\\n",
    "    \"items\": [\\\n",
    "        {\\\n",
    "            \"autoDisabled\": false,\\\n",
    "            \"id\": \"ID\",\\\n",
    "            \"name\": \"\",\\\n",
    "            \"selected\": false,\\\n",
    "            \"color\": \"#00A2DD\"\\\n",
    "         }\\\n",
    "    ]\\\n",
    "}'\n",
    "trend_capsule_set_json = json.loads(trend_capsule_set_store)\n",
    "# again, let's get all the info we need from metric_output\n",
    "trend_capsule_set_json['items'][0]['id'] = metric_output.bounding_condition.id\n",
    "trend_capsule_set_json['items'][0]['name'] = metric_output.bounding_condition.name\n",
    "\n",
    "data_store = '\\\n",
    "{{\\\n",
    "    \"version\":23,\\\n",
    "    \"state\":{{\\\n",
    "        \"stores\":{{\\\n",
    "            \"sqWorksheetStore\": {0},\\\n",
    "            \"sqTrendSeriesStore\": {1},\\\n",
    "            \"sqTrendCapsuleSetStore\": {2}\\\n",
    "        }}\\\n",
    "    }}\\\n",
    "}}'.format(json.dumps(worksheet_store_json), json.dumps(trend_series_json), json.dumps(trend_capsule_set_json))\n",
    "\n",
    "trend_workstep_input = sdk.WorkstepInputV1()\n",
    "trend_workstep_input.data = data_store"
   ]
  },
  {
   "cell_type": "markdown",
   "metadata": {},
   "source": [
    "Now that we have our trend view Workstep defined, let's move on to creating the screenshots."
   ]
  },
  {
   "cell_type": "markdown",
   "metadata": {},
   "source": [
    "### Obtaining a Screenshot for an Organizer Topic Document\n",
    "The Organizer Topics use linked screenshots to display content.  This has the advantage of appearing as immutable content in the Topic document and using the existing Workbench Analysis rendering capabilities to generate the trends and tables."
   ]
  },
  {
   "cell_type": "markdown",
   "metadata": {},
   "source": [
    "Screenshots are created using the Jobs API endpoint.  The Jobs API setups the Worksheet containing the scorecard to a specific date range, followed by a \"headless capture\".  That is, it renders the web page in memory and saves a screenshot without ever displaying it.\n",
    "\n",
    "The endpoint determines the date range to use for the screenshot from a capsule-producing formula, which is set in `range_formula`.  For scorecards, the `content_selector` must be set to `.screenshotSizeToContent` to ensure that the returned screenshot only shows the scorecard.  Note that when `content_selector` is set to `.screenshotSizeToContent`, the `height` and `width` parameters are ignored, even though they are required.\n",
    "\n",
    "In the following screenshot, I will use one of the date ranges created in _Creating Organizer Topics using the API_ in which I stored the date range name, id, and start/end ISO8601 timestamps from an API created date range.  You will need these elements when creating and embedding the scorecard in the Topic document. I saved the date ranges in `date_range_info` previously."
   ]
  },
  {
   "cell_type": "code",
   "execution_count": null,
   "metadata": {},
   "outputs": [],
   "source": [
    "# dictonary with structure {'id': str, 'start_ms': int, 'end_ms': int, 'start_iso': str, 'end_iso': str}\n",
    "screenshot_date_range = sq_report_store[1]['API Created Date Range 1']\n",
    "\n",
    "range_formula = 'capsule(\"{0}Z\", \"{1}Z\")'.format(screenshot_date_range['start_iso'], screenshot_date_range['end_iso'])\n",
    "\n",
    "jobs_api = sdk.JobsApi(api_client)\n",
    "metric_screenshot_job_output = jobs_api.get_screenshot(\n",
    "    worksheet_id=worksheet_output.id,\n",
    "    workstep_id=analysis_workstep_output.id,\n",
    "    content_selector='.screenshotSizeToContent',\n",
    "    range_formula=range_formula,\n",
    "    height=100, width=100)\n",
    "print(metric_screenshot_job_output)"
   ]
  },
  {
   "cell_type": "markdown",
   "metadata": {},
   "source": [
    "The property `screenshot` of `screenshot_job_output` contains the internal URL of our screenshot."
   ]
  },
  {
   "cell_type": "markdown",
   "metadata": {},
   "source": [
    "Now that we have the metric screenshot, let's update the workstep and get the trend screenshot.  Note that I'm omitting `content_selector`, updating the `workstep_id`, and setting the `height` and `width` to values I pre-determined.  You'll need to save the height and width values as the jobs endpoint only returns them when it sets them."
   ]
  },
  {
   "cell_type": "code",
   "execution_count": null,
   "metadata": {},
   "outputs": [],
   "source": [
    "trend_workstep_output = workbook_api.create_workstep(workbook_id=analysis_output.id,\n",
    "                                                     worksheet_id=worksheet_output.id,\n",
    "                                                     body=trend_workstep_input)\n",
    "trend_width = 700\n",
    "trend_height = int(700./(16./9.)) # make a \"widescreen\" screenshot\n",
    "trend_screenshot_job_output = jobs_api.get_screenshot(\n",
    "    worksheet_id=worksheet_output.id,\n",
    "    workstep_id=trend_workstep_output.id,\n",
    "    range_formula=range_formula,\n",
    "    height=trend_height, width=trend_width)\n",
    "print(trend_screenshot_job_output)"
   ]
  },
  {
   "cell_type": "markdown",
   "metadata": {},
   "source": [
    "### Embedding the screenshots into a Topic Document\n",
    "Seeq content in Topic documents has a specific format, with custom html attributes.  To fill in the attributes, I'm going to create a Jinja2 template.  Typically these templates are hosted in external html files, but we'll create one from a string for clarity.  In addition to the attributes, we want a link to our image's source data to enable drill-down functionality, so I need to create a link to the source Worksheet.  Note that I create a new UUID for the image when I embed it.  This is for frontend content tracking."
   ]
  },
  {
   "cell_type": "code",
   "execution_count": null,
   "metadata": {},
   "outputs": [],
   "source": [
    "seeq_content_html_tempate = '\\\n",
    "<p>\\\n",
    "<a href=\"{{worksheet_link}}\" class=\"\">\\\n",
    "    <img\\\n",
    "        id=\"{{image_id}}\"\\\n",
    "        data-seeq-content=\"\"\\\n",
    "        class=\"report-image-border fr-dii specReportSeeqContent fr-draggable\"\\\n",
    "        data-seeq-workbookid=\"{{workbook_id}}\"\\\n",
    "        data-seeq-worksheetid=\"{{worksheet_id}}\"\\\n",
    "        data-seeq-workstepid=\"{{workstep_id}}\"\\\n",
    "        data-seeq-datevariableid=\"{{date_variable_id}}\"\\\n",
    "        data-seeq-contentheight=\"{{content_height}}\"\\\n",
    "        data-seeq-contentwidth=\"{{content_width}}\"\\\n",
    "        src=\"{{screenshot_url}}\">\\\n",
    "</a>\\\n",
    "</p>'\n",
    "\n",
    "#  link creation\n",
    "protocol = 'http'\n",
    "host_url = 'localhost'\n",
    "host_port = 34216\n",
    "\n",
    "# scorecard link\n",
    "scorecard_worksheet_link = \\\n",
    "    r'{0}://{1}:{2}/view/worksheet/{3}/{4}?workstepId={5}&;displayRangeStart={6}&;displayRangeEnd={7}&;trendItems='.format(\n",
    "        protocol, host_url, host_port,\n",
    "        analysis_output.id,\n",
    "        worksheet_output.id,\n",
    "        analysis_workstep_output.id,\n",
    "        screenshot_date_range['start_iso'],\n",
    "        screenshot_date_range['end_iso'])\n",
    "\n",
    "# trend link\n",
    "trend_worksheet_link = \\\n",
    "    r'{0}://{1}:{2}/view/worksheet/{3}/{4}?workstepId={5}&;displayRangeStart={6}&;displayRangeEnd={7}&;trendItems='.format(\n",
    "        protocol, host_url, host_port, \n",
    "        analysis_output.id,\n",
    "        worksheet_output.id,\n",
    "        trend_workstep_output.id,\n",
    "        screenshot_date_range['start_iso'],\n",
    "        screenshot_date_range['end_iso'])\n",
    "\n",
    "jinja_seeq_environment = ji.Environment(loader=ji.BaseLoader).from_string(seeq_content_html_tempate)\n",
    "\n",
    "scorecard_html = jinja_seeq_environment.render(worksheet_link=scorecard_worksheet_link,\n",
    "                                               image_id=uuid4(),\n",
    "                                               workbook_id=analysis_output.id,\n",
    "                                               worksheet_id=worksheet_output.id,\n",
    "                                               workstep_id=analysis_workstep_output.id,\n",
    "                                               date_variable_id=screenshot_date_range['id'],\n",
    "                                               screenshot_url=metric_screenshot_job_output.screenshot,\n",
    "                                               content_height=metric_screenshot_job_output.height,\n",
    "                                               content_width=metric_screenshot_job_output.width)\n",
    "\n",
    "trend_html = jinja_seeq_environment.render(worksheet_link=trend_worksheet_link,\n",
    "                                           image_id=uuid4(), workbook_id=analysis_output.id,\n",
    "                                           worksheet_id=worksheet_output.id,\n",
    "                                           workstep_id=trend_workstep_output.id,\n",
    "                                           date_variable_id=screenshot_date_range['id'],\n",
    "                                           screenshot_url=trend_screenshot_job_output.screenshot,\n",
    "                                           content_height=trend_height,\n",
    "                                           content_width=trend_width)\n",
    "\n",
    "# now to combine them\n",
    "seeq_html = scorecard_html + trend_html"
   ]
  },
  {
   "cell_type": "markdown",
   "metadata": {},
   "source": [
    "The final step is to update our Annotation with the html we just created.  Details on these calls can be found in the companion how to _Creating Organizer Topics using the API_.  I will be reusing the `document_output` as well as the `annotation_output` items from that how-to.  These contain the IDs of the Topic document and Annotation that we created using the API."
   ]
  },
  {
   "cell_type": "code",
   "execution_count": null,
   "metadata": {},
   "outputs": [],
   "source": [
    "seeq_data_annotation_input = sdk.AnnotationInputV1()\n",
    "seeq_data_annotation_input.name = \"Unnamed\"\n",
    "seeq_data_annotation_input.type = \"Report\"\n",
    "seeq_data_annotation_input.createdById = \"Seth Gilchrist\"\n",
    "\n",
    "seeq_data_annotation_interested_input = sdk.AnnotationInterestInputV1()\n",
    "seeq_data_annotation_interested_input.interest_id = document_output.id\n",
    "seeq_data_annotation_input.interests = [annotations_interested_input]\n",
    "\n",
    "seeq_data_annotation_input.document = seeq_html\n",
    "\n",
    "seeq_data_annotation_update_output = annotations_api.update_annotation(\n",
    "    id=annotation_output.id, body=seeq_data_annotation_input)\n",
    "print(seeq_data_annotation_update_output)"
   ]
  },
  {
   "cell_type": "markdown",
   "metadata": {},
   "source": [
    "You can now go to the Topic, open the document and find the scorecard, with all the Seeq frontend tools at your disposal."
   ]
  },
  {
   "cell_type": "markdown",
   "metadata": {},
   "source": [
    "## Taking the Next Step \n",
    "Using the same techniques, we can embed all the different kinds of Seeq content in to Topic documents.\n",
    "\n",
    "To explore different kinds of Seeq content, I encourage you to use the \"Inspect\" capability of Chrome to examine the html that the frontend uses and creates, and also to take a look at the different data stores in worksteps that you are interested in.  One useful method of understanding the effects of different operations is to use a diff tool (e.g., Meld) to examine changes made to the data store between operations.\n",
    "\n",
    "Once you have a feel for how the different operations and views manifest in the data store and html, it becomes possible to highly customize your views using the API and create a wide variety of content.\n",
    "\n",
    "As a final note, I'd like to point out that, as one of our developers, says, \"The frontend eats it's own dog food - everything the frontend does is done through the API.\" So the sky's the limit once you understand how data is stored and objects are represented."
   ]
  },
  {
   "cell_type": "markdown",
   "metadata": {},
   "source": [
    "## Contact Us!\n",
    "If you have questions, comments, or need more help or information, please reach out to your Seeq representative to get a team or 1:1 training on these tools.  We're here to help!"
   ]
  }
 ],
 "metadata": {
  "kernelspec": {
   "display_name": "Python 2",
   "language": "python",
   "name": "python2"
  },
  "language_info": {
   "codemirror_mode": {
    "name": "ipython",
    "version": 2
   },
   "file_extension": ".py",
   "mimetype": "text/x-python",
   "name": "python",
   "nbconvert_exporter": "python",
   "pygments_lexer": "ipython2",
   "version": "2.7.15"
  }
 },
 "nbformat": 4,
 "nbformat_minor": 2
}
