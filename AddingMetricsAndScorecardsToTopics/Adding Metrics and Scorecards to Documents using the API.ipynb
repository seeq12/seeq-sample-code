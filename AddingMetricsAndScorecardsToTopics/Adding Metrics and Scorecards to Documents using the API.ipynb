{
 "cells": [
  {
   "cell_type": "markdown",
   "metadata": {},
   "source": [
    "# Creating Metrics and Scorecards and Using them in Topics through the API\n",
    "## Introduction\n",
    "Algorithmically creating metrics and scorecards using Seeq's REST API can be done using any programming language.  This tutorial will walk through creating these object using Python 2.7 and Seeq's SDK.\n",
    "\n",
    "The tutorial assumes that you know how to create Worksheets and Topics using the API (see the tutorial _Creating Organizer Topics using the API_) and will focus on creating Metrics and Scorecards which will then be added to an existing Topic Document.\n",
    "\n",
    "Note that doing these kinds of operations through the API circumvents all of the front-end's safety checks.  It is **highly recommended** that you develop on a local machine and test all code thoroughly **before using your code on an active server**. You should probably also **back that server up**. As an example of what can go wrong, forgetting the `\"`'s in the `workbook_input.data` JSON will render the server unreachable by all...and potentially unfixable!\n"
   ]
  },
  {
   "cell_type": "markdown",
   "metadata": {},
   "source": [
    "### Setting up the Environment"
   ]
  },
  {
   "cell_type": "code",
   "execution_count": null,
   "metadata": {},
   "outputs": [],
   "source": [
    "# import the Seeq SDK for communicating with Seeq\n",
    "import seeq_sdk as sdk\n",
    "# import Jinja2 for creating html templates to post in the document\n",
    "import jinja2 as ji\n",
    "# import uuid so that we can create UUID's (aka GUIDs) for our objects\n",
    "from uuid import uuid4\n",
    "# import json so that to parse objects\n",
    "import json"
   ]
  },
  {
   "cell_type": "markdown",
   "metadata": {},
   "source": [
    "### Connecting to Seeq\n",
    "This is the basic stuff.  Note that these are dummy credentials for a local installation which will not work on your machine or in the cloud."
   ]
  },
  {
   "cell_type": "code",
   "execution_count": null,
   "metadata": {},
   "outputs": [],
   "source": [
    "# create the API client\n",
    "api_client = sdk.ApiClient(\"http://localhost:34216/api\", None, None)\n",
    "\n",
    "# get the clent authoization and login\n",
    "auth_input = sdk.AuthInputV1(username='seth.gilchrist@seeq.com', password='testpass')\n",
    "auth_api = sdk.AuthApi(api_client)\n",
    "auth_output = auth_api.login(body=auth_input)"
   ]
  },
  {
   "cell_type": "markdown",
   "metadata": {},
   "source": [
    "## Creating a Metric and putting it into an Organizer Topic Document\n",
    "Assuming that we have an Organizer Topic and a document that we can add content to, let's create a scorecard Metric and place it in the document."
   ]
  },
  {
   "cell_type": "markdown",
   "metadata": {},
   "source": [
    "The basic process for creating a Metric and putting it into a document is:\n",
    "1. Create a Workbench Analysis Worksheet to display the Metric.\n",
    "1. Create a Metric for our signal based on a condition and aggregation method.\n",
    "1. Update the Worksheet with the metric information.\n",
    "1. Generate a screenshot of the metric based on the Date Range.\n",
    "1. Embed the screenshot into the Organizer Topic document."
   ]
  },
  {
   "cell_type": "markdown",
   "metadata": {},
   "source": [
    "### Creating a Workbench Analysis\n",
    "The Workbench Analysis is created in a very similar manner to the Organizer Topic.  I will not go into detail on creating the analysis, as there is another how-to focused on that.  We will leave the Workstep uninitialized and create it after we have our Metric."
   ]
  },
  {
   "cell_type": "code",
   "execution_count": null,
   "metadata": {},
   "outputs": [],
   "source": [
    "# create the Analysis\n",
    "analysis_input = sdk.WorkbookInputV1()\n",
    "analysis_input.name = \"API Created Analysis\"\n",
    "analysis_output = workbook_api.create_workbook(body=analysis_input)\n",
    "\n",
    "# create the worksheet\n",
    "worksheet_input = sdk.WorksheetInputV1()\n",
    "worksheet_input.name = \"API Created Worksheet\"\n",
    "worksheet_output = workbook_api.create_worksheet(workbook_id=analysis_output.id, body=worksheet_input)\n",
    "\n",
    "# set the initial workbook state\n",
    "analysis_property_input = sdk.PropertyInputV1()\n",
    "analysis_property_input.unit_of_measure = 'string'\n",
    "analysis_property_input.value = '{\"version\":1,\"state\":{\"stores\":{}}}'\n",
    "analysis_state_output = items_api.set_property(id=analysis_output.id,\n",
    "                                               property_name='workbookState',\n",
    "                                               body=analysis_property_input)"
   ]
  },
  {
   "cell_type": "markdown",
   "metadata": {},
   "source": [
    "### Creating the Metric\n",
    "To create the metric, we need to have a signal ID and a condition ID against which to perform our calculations, and a aggregation function that we want to use to summarize the signal over the condition's capsules.  I will get my IDs from the Seeq interface, but they could come from API generated signals and conditions as well.  To replicate my example, you can use the IDs of the signals and conditions defined below.\n",
    "\n",
    "Signal ID: ID of the example data `Example >> Cooling Tower 1 >> Area A >> Compressor Power`\n",
    "\n",
    "Condition ID: ID of a value search on the signal above with a formula of\n",
    "\n",
    "`$a.validValues().valueSearch(1day, isGreaterThan(25), 0min, isLessThanOrEqualTo(25), 0min)`\n",
    "\n",
    "Once we have these IDs, we can use the Metrics API endpoint to create our metric.  I will be aggregating over the maximum value of the signal during the capsules (hence `aggregation_function = maxValue()`), but other aggregators are available.  To find the formula for the one you are interested in, create a scorecard with your target aggregator and examine the items properties in Seeq.\n",
    "\n",
    "Note that `scoped_to` provides search scope for our metric, it's best to scope it to our Workbench Analysis so that it doesn't pollute other search locations. Also, instantiating `threasholds` to an empty list is required."
   ]
  },
  {
   "cell_type": "code",
   "execution_count": null,
   "metadata": {},
   "outputs": [],
   "source": [
    "metric_input = sdk.ThresholdMetricInputV1()\n",
    "metric_input.name = 'API Created Metric 1'\n",
    "metric_input.measured_item = \"E8EDA933-93F7-45A8-A981-5E6328DFAB79\"\n",
    "metric_input.bounding_condition = \"4C89ECF7-6932-4EBD-93D2-9FB48A676109\"\n",
    "metric_input.aggregation_function = \"maxValue()\"\n",
    "metric_input.scoped_to = analysis_output.id\n",
    "metric_input.thresholds = []\n",
    "\n",
    "metric_api = sdk.MetricsApi(api_client)\n",
    "metric_output = metric_api.create_threshold_metric(body=metric_input)"
   ]
  },
  {
   "cell_type": "markdown",
   "metadata": {},
   "source": [
    "Now that the metric has been created, we will make a scorecard from it, which is done using a Workstep.  We will create a Workstep that shows the metric in a scorecard by applying appropriate values to two dateStores: the sqWorksheetStore, in which we set the `viewKey` to `SCORECARD` (an alternative being `TREND`) and an sqTrendMetricStore in which we tell Seeq how our Metric should be displayed.  You may want to play around with the `scorecardHeaders` to get them how you want."
   ]
  },
  {
   "cell_type": "code",
   "execution_count": null,
   "metadata": {},
   "outputs": [],
   "source": [
    "worksheet_store = '\\\n",
    "{\\\n",
    "    \"tabsets\": {\\\n",
    "        \"sidebar\": 1\\\n",
    "    },\\\n",
    "    \"viewKey\": \"SCORECARD\",\\\n",
    "    \"browsePanelCollapsed\": false,\\\n",
    "    \"displayWidth\": 850,\\\n",
    "    \"displayHeight\": 575,\\\n",
    "    \"resizeEnabled\": true\\\n",
    "}'\n",
    "\n",
    "trend_metric_template = '\\\n",
    "{\\\n",
    "    \"scorecardHeaders\": {\\\n",
    "        \"type\": \"start\",\\\n",
    "        \"format\": \"lll\"\\\n",
    "    },\\\n",
    "    \"scorecardColumns\": [\\\n",
    "        {\\\n",
    "            \"type\": \"name\",\\\n",
    "            \"backgroundColor\": \"#ffffff\"\\\n",
    "        }],\\\n",
    "    \"dataStatus\": \"itemDataPresent\",\\\n",
    "    \"warningCount\": 0,\\\n",
    "    \"warningLogs\": [],\\\n",
    "    \"items\": [\\\n",
    "        {\\\n",
    "            \"axisAlign\": \"B\",\\\n",
    "            \"axisAutoScale\": true,\\\n",
    "            \"lane\": 2,\\\n",
    "            \"rightAxis\": false,\\\n",
    "            \"dashStyle\": \"Solid\",\\\n",
    "            \"lineWidth\": 1,\\\n",
    "            \"autoDisabled\": false,\\\n",
    "            \"axisVisibility\": true,\\\n",
    "            \"yAxisConfig\": {\\\n",
    "              \"min\": -1.14,\\\n",
    "              \"max\": 1.14\\\n",
    "            },\\\n",
    "            \"yAxisMin\": -1,\\\n",
    "            \"yAxisMax\": 1,\\\n",
    "            \"sampleDisplayOption\": \"line\",\\\n",
    "            \"id\": \"ID\",\\\n",
    "            \"name\": \"name\",\\\n",
    "            \"selected\": false,\\\n",
    "            \"color\": \"#9D248F\",\\\n",
    "            \"scorecardOrder\": 0\\\n",
    "        }]\\\n",
    "}'\n",
    "\n",
    "trend_metric_json = json.loads(trend_metric_template)\n",
    "trend_metric_json['items'][0]['id'] = metric_output.id\n",
    "trend_metric_json['items'][0]['name'] = metric_output.name\n",
    "\n",
    "data_store = '{{\"sqWorksheetStore\": {0}, \"sqTrendMetricStore\": {1} }}'.format(worksheet_store, json.dumps(trend_metric_json))\n",
    "\n",
    "analysis_workstep_input = sdk.WorkstepInputV1()\n",
    "analysis_workstep_input.data = '{{\"version\":23,\"state\":{{\"stores\": {0} }} }}'.format(data_store)\n",
    "\n",
    "analysis_workstep_output = workbook_api.create_workstep(workbook_id=analysis_output.id,\n",
    "                                                        worksheet_id=worksheet_output.id,\n",
    "                                                        body=analysis_workstep_input)\n"
   ]
  },
  {
   "cell_type": "markdown",
   "metadata": {},
   "source": [
    "You can now surf over to Seeq, open the Analysis and see the scorecard that you've created."
   ]
  },
  {
   "cell_type": "markdown",
   "metadata": {},
   "source": [
    "### Obtaining a Screenshot of the Metric for an Organizer Topic Document\n",
    "The Organizer Topic uses linked screenshots to display scorecard content.  This has the advantage of appearing as immutable content in the Topic document and using the existing Workbench Analysis rendering capabilities to generate the tables."
   ]
  },
  {
   "cell_type": "markdown",
   "metadata": {},
   "source": [
    "Screenshots are created using the Jobs API endpoint.  The Jobs API setups the Worksheet containing the scorecard to a specific date range, followed by a \"headless capture\".  That is, it renders the web page in memory and saves a screenshot without ever displaying it.\n",
    "\n",
    "The endpoint determines the date range to use for the screenshot from a capsule-producing formula, which is set in `range_formula`.  For scorecards, the `content_selector` must be set to `.screenshotSizeToContent` to ensure that the returned screenshot only shows the scorecard.  Note that when `content_selector` is set to `.screenshotSizeToContent`, the `height` and `width` parameters are ignored, even though they are required.\n",
    "\n",
    "In the following screenshot, I will use one of the date ranges created in _Creating Organizer Topics using the API_ in which I stored the date range name, id, and start/end ISO8601 timestamps from an API created date range.  You will need these elements when creating and embedding the scorecard in the Topic document. I saved the date ranges in `date_range_info` previously."
   ]
  },
  {
   "cell_type": "code",
   "execution_count": null,
   "metadata": {},
   "outputs": [],
   "source": [
    "# dictonary with structure {'id': str, 'start_ms': int, 'end_ms': int, 'start_iso': str, 'end_iso': str}\n",
    "screenshot_date_range = sq_report_store[1]['API Created Date Range 1']\n",
    "\n",
    "range_formula = 'capsule(\"{0}Z\", \"{1}Z\")'.format(screenshot_date_range['start_iso'], screenshot_date_range['end_iso'])\n",
    "\n",
    "jobs_api = sdk.JobsApi(api_client)\n",
    "screenshot_job_output = jobs_api.get_screenshot(\n",
    "    worksheet_id=worksheet_output.id,\n",
    "    workstep_id=analysis_workstep_output.id,\n",
    "    content_selector='.screenshotSizeToContent',\n",
    "    range_formula=range_formula,\n",
    "    height=670, width=67)"
   ]
  },
  {
   "cell_type": "markdown",
   "metadata": {},
   "source": [
    "`screenshot_job_output` contains a property `screenshot` which contains the URL of our screenshot.  There are other properties which you can find by printing the output or looking at the API Reference and switching to the \"Model\" view of the \"Example Value\"."
   ]
  },
  {
   "cell_type": "markdown",
   "metadata": {},
   "source": [
    "### Embedding the screenshot into a Topic Document\n",
    "Seeq content in Topic documents has a specific format, with custom html attributes.  To fill in the attributes, I'm going to create a Jinja2 template.  Typically these templates are hosted in external html files, but we'll create one from a string for clarity.  In addition to the attributes, we need a link to our image's source data to enable drill-down functionality, so need to create a link to the source Worksheet.  Note that I create a new UUID for the image when I embed it.  This is for frontend content tracking."
   ]
  },
  {
   "cell_type": "code",
   "execution_count": null,
   "metadata": {},
   "outputs": [],
   "source": [
    "seeq_content_html_tempate = '\\\n",
    "<p>\\\n",
    "<a href=\"{{worksheet_link}}\" class=\"\">\\\n",
    "    <img\\\n",
    "        id=\"{{image_id}}\"\\\n",
    "        data-seeq-content=\"\"\\\n",
    "        class=\"report-image-border fr-dii specReportSeeqContent fr-draggable\"\\\n",
    "        data-seeq-workbookid=\"{{workbook_id}}\"\\\n",
    "        data-seeq-worksheetid=\"{{worksheet_id}}\"\\\n",
    "        data-seeq-workstepid=\"{{workstep_id}}\"\\\n",
    "        data-seeq-datevariableid=\"{{date_variable_id}}\"\\\n",
    "        data-seeq-contentheight=\"67\"\\\n",
    "        data-seeq-contentwidth=\"670\"\\\n",
    "        src=\"{{screenshot_url}}\">\\\n",
    "</a>\\\n",
    "</p>'\n",
    "\n",
    "#  create the link to the Analysis Worksheet\n",
    "protocol = 'http'\n",
    "host_url = 'localhost'\n",
    "host_port = 34216\n",
    "worksheet_link = \\\n",
    "    r'{0}://{1}:{2}/view/worksheet/{3}/{4}?workstepId={5}&;displayRangeStart={6}&;displayRangeEnd={7}&;trendItems='.format(\n",
    "        protocol, host_url, host_port, analysis_output.id, worksheet_output.id, analysis_workstep_output.id,\n",
    "        screenshot_date_range['start_iso'], screenshot_date_range['end_iso'])\n",
    "\n",
    "jinja_seeq_environment = ji.Environment(loader=ji.BaseLoader).from_string(seeq_content_html_tempate)\n",
    "\n",
    "seeq_html = jinja_seeq_environment.render(\n",
    "    worksheet_link=worksheet_link, image_id=uuid4(), workbook_id=analysis_output.id,\n",
    "    worksheet_id=worksheet_output.id, workstep_id=analysis_workstep_output.id,\n",
    "    date_variable_id=screenshot_date_range['id'], screenshot_url=screenshot_job_output.screenshot)"
   ]
  },
  {
   "cell_type": "markdown",
   "metadata": {},
   "source": [
    "The final step is to update our Annotation with the html we just created.  Details on these calls can be found in the companion how to _Creating Organizer Topics using the API_.  I will be reusing the `document_output` as well as the `annotation_output` items from that how-to.  These contain the IDs of the Topic document and Annotation that we created using the API."
   ]
  },
  {
   "cell_type": "code",
   "execution_count": null,
   "metadata": {},
   "outputs": [],
   "source": [
    "seeq_data_annotation_input = sdk.AnnotationInputV1()\n",
    "seeq_data_annotation_input.name = \"Unnamed\"\n",
    "seeq_data_annotation_input.type = \"Report\"\n",
    "seeq_data_annotation_input.createdById = \"Seth Gilchrist\"\n",
    "\n",
    "seeq_data_annotation_interested_input = sdk.AnnotationInterestInputV1()\n",
    "seeq_data_annotation_interested_input.interest_id = document_output.id\n",
    "seeq_data_annotation_input.interests = [annotations_interested_input]\n",
    "\n",
    "seeq_data_annotation_input.document = seeq_html\n",
    "\n",
    "seeq_data_annotation_update_output = annotations_api.update_annotation(\n",
    "    id=annotation_output.id, body=seeq_data_annotation_input)"
   ]
  },
  {
   "cell_type": "markdown",
   "metadata": {},
   "source": [
    "You can now go to the Topic, open the document and find the scorecard, with all the Seeq frontend tools at your disposal."
   ]
  },
  {
   "cell_type": "markdown",
   "metadata": {},
   "source": [
    "## Taking the Next Step \n",
    "Using the same techniques, we can embed all the different kinds of Seeq content in to Topic documents.\n",
    "\n",
    "To explore different kinds of Seeq content, I encourage you to use the \"Inspect\" capability of Chrome to examine the html that the frontend uses and creates, and also to take a look at the different data stores in worksteps that you are interested in.  One useful method of understanding the effects of different operations is to use a diff tool (e.g., Meld) to examine changes made to the data store between operations.\n",
    "\n",
    "Once you have a feel for how the different operations and views manifest in the data store and html, it becomes possible to highly customize your views using the API and create a wide variety of content.\n",
    "\n",
    "As a final note, I'd like to point out that, as one of our developers, says, \"The frontend eats it's own dog food - everything the frontend does is done through the API.\" So the sky's the limit once you understand how data is stored and objects are represented."
   ]
  },
  {
   "cell_type": "markdown",
   "metadata": {},
   "source": [
    "## Contact Us!\n",
    "If you have questions, comments, or need more help or information, please reach out to your Seeq representative to get a team or 1:1 training on these tools.  We're here to help!"
   ]
  }
 ],
 "metadata": {
  "kernelspec": {
   "display_name": "Python 2",
   "language": "python",
   "name": "python2"
  },
  "language_info": {
   "codemirror_mode": {
    "name": "ipython",
    "version": 2
   },
   "file_extension": ".py",
   "mimetype": "text/x-python",
   "name": "python",
   "nbconvert_exporter": "python",
   "pygments_lexer": "ipython2",
   "version": "2.7.15"
  }
 },
 "nbformat": 4,
 "nbformat_minor": 2
}
