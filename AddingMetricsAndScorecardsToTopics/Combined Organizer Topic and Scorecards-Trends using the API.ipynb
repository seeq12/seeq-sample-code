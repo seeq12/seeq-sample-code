{
 "cells": [
  {
   "cell_type": "markdown",
   "metadata": {},
   "source": [
    "# Creating Organizer Topics using the API\n",
    "## Introduction\n",
    "Algorithmically creating topics using Seeq's REST API can be done using any programming language.  This tutorial will walk through creating these object using Python 2.7 and Seeq's SDK.\n",
    "\n",
    "The tutorial will show how to create a new Organizer containing a new Topic and modifying the text shown in the topic.  Once this has been accomplished, I recommend that you check out the _Embedding Metrics and Trends using the API_ tutorial to see how to create and include Seeq content.\n",
    "\n",
    "Note that doing these kinds of operations through the API circumvents all of the front-end's safety checks.  It is **highly recommended** that you develop on a local machine and test all code thoroughly **before using your code on an active server**. You should probably also **back that server up**. As an example of what can go wrong, forgetting the `\"`'s in the `workbook_input.data` JSON will render the server unreachable by all...and potentially unfixable!\n"
   ]
  },
  {
   "cell_type": "markdown",
   "metadata": {},
   "source": [
    "## Creating an Organizer Topic\n",
    "Organizer Topics, and Workbench Analyses are handled similarly by Seeq's backend.  Creating and manipulating them is done through the same API endpoint, namely the Workbooks endpoint.  The basic process for creating an Organizer Topic is similar to that for creating a Workbench Analysis, with the addition of creating a document to show in the Topic using the Annotations endpoint.\n",
    "\n",
    "Creating the Organizer Topic is done in the following steps:\n",
    "1. Create a new Organizer Topic\n",
    "1. Update the state of the Organizer Topic as blank. \n",
    "1. Create a new Document in the Organizer.\n",
    "1. Update the \"Workstep\" for the Document, initializing things like Date Ranges.\n",
    "1. Create content for the Document.\n",
    "1. Update the content in the Document."
   ]
  },
  {
   "cell_type": "markdown",
   "metadata": {},
   "source": [
    "### Setting up the Environment"
   ]
  },
  {
   "cell_type": "code",
   "execution_count": 1,
   "metadata": {},
   "outputs": [],
   "source": [
    "# import the Seeq SDK for communicating with Seeq (I installed this from the egg distributed with Seeq and easy_install)\n",
    "import seeq_sdk as sdk\n",
    "# import Jinja2 for creating html templates to post in the document\n",
    "import jinja2 as ji\n",
    "# import uuid so that we can create UUID's (aka GUIDs) for our objects\n",
    "from uuid import uuid4\n",
    "# import json so that to parse objects\n",
    "import json\n",
    "# import datetime for working with times\n",
    "from datetime import datetime as dt\n",
    "# import copy so that we can use templates\n",
    "import copy"
   ]
  },
  {
   "cell_type": "markdown",
   "metadata": {},
   "source": [
    "### Connecting to Seeq\n",
    "This is the basic stuff.  Note that these are dummy credentials for a local installation which will not work on your machine or in the cloud."
   ]
  },
  {
   "cell_type": "code",
   "execution_count": 2,
   "metadata": {},
   "outputs": [],
   "source": [
    "# create the API client\n",
    "api_client = sdk.ApiClient(\"http://localhost:34216/api\", None, None)\n",
    "\n",
    "# get the clent authoization and login\n",
    "auth_input = sdk.AuthInputV1(username='seth.gilchrist@seeq.com', password='testpass')\n",
    "auth_api = sdk.AuthApi(api_client)\n",
    "auth_output = auth_api.login(body=auth_input)"
   ]
  },
  {
   "cell_type": "markdown",
   "metadata": {},
   "source": [
    "### Creating a new Organizer Topic\n",
    "To create an Organizer Topic, we use the same API call that we would to make a new Workbench Analysis, except that we pass the `\"isReportBinder\": true` flag in the JSON body.\n",
    "\n",
    "Remember that JSON requires double quotes (`\"`) to encapsulate strings.  You can always visit the API help in Seeq (Hamburger Menu -> API Reference) to find out what properties are required."
   ]
  },
  {
   "cell_type": "code",
   "execution_count": 3,
   "metadata": {},
   "outputs": [
    {
     "name": "stdout",
     "output_type": "stream",
     "text": [
      "{'access_level': u'FULL_CONTROL',\n",
      " 'ancestors': [],\n",
      " 'created_at': u'2019-03-05T22:12:22.114Z',\n",
      " 'data': u'{\"isReportBinder\":true}',\n",
      " 'description': None,\n",
      " 'href': u'/workbooks/A9BD8616-633C-4755-8527-9EBEBD420809',\n",
      " 'id': u'A9BD8616-633C-4755-8527-9EBEBD420809',\n",
      " 'is_archived': False,\n",
      " 'marked_as_favorite': False,\n",
      " 'name': u'My First API Created Organizer',\n",
      " 'owner': {'href': u'/users/7311CCDB-8572-4BB9-962A-E91D97095B8F',\n",
      "           'id': u'7311CCDB-8572-4BB9-962A-E91D97095B8F',\n",
      "           'is_archived': False,\n",
      "           'name': u'Seth Gilchrist',\n",
      "           'type': u'User'},\n",
      " 'parent_folder_id': None,\n",
      " 'status_message': None,\n",
      " 'type': u'Workbook',\n",
      " 'updated_at': u'2019-03-05T22:12:22.114Z',\n",
      " 'worksheets': u'/workbooks/A9BD8616-633C-4755-8527-9EBEBD420809/worksheets'}\n"
     ]
    }
   ],
   "source": [
    "topic_input = sdk.WorkbookInputV1()\n",
    "topic_input.name = 'My First API Created Organizer'\n",
    "topic_input.data = '{\"isReportBinder\":true}'\n",
    "\n",
    "workbook_api = sdk.WorkbooksApi(api_client)\n",
    "topic_output = workbook_api.create_workbook(body=topic_input)\n",
    "print(topic_output)"
   ]
  },
  {
   "cell_type": "markdown",
   "metadata": {},
   "source": [
    "Once the Organizer Topic has been created, we have to update it and give it a state property using the Items API endpoint.  In this property, we will initialize a \"store\", which is Seeq terminology for the state of an Analysis or Topic, it is the content of a so-called \"Workstep\".  Later, we will update the store again through when setting the date ranges in our Organizer Topic. Without setting this property, the workbook will be unreachable through Seeq.\n",
    "\n",
    "The `version` value is important when passing stores to Seeq. They are used to determine upgrade procedure as the software grows.  They are often the only _required_ property when defining stores through the API. The API will not reject a call without one, but it is important to include them."
   ]
  },
  {
   "cell_type": "code",
   "execution_count": 4,
   "metadata": {},
   "outputs": [
    {
     "name": "stdout",
     "output_type": "stream",
     "text": [
      "{'href': u'/items/A9BD8616-633C-4755-8527-9EBEBD420809/properties/workbookState',\n",
      " 'status_message': None}\n"
     ]
    }
   ],
   "source": [
    "topic_property_input = sdk.PropertyInputV1()\n",
    "topic_property_input.unit_of_measure = 'string'\n",
    "topic_property_input.value = '{\"version\":1,\"state\":{\"stores\":{}}}'\n",
    "\n",
    "items_api = sdk.ItemsApi(api_client)\n",
    "topic_state_output = items_api.set_property(id=topic_output.id,\n",
    "                                            property_name='workbookState',\n",
    "                                            body=topic_property_input)\n",
    "print(topic_state_output)"
   ]
  },
  {
   "cell_type": "markdown",
   "metadata": {},
   "source": [
    "### Creating a new Document\n",
    "In this example I will create a new Topic Document, which is done through the Workbook/Worksheets API.  If you have a \"template\" document, you can duplicate that document by passing its ID in the `branchFrom` property of the `WorksheetInputV1()` object.  To create a new one, you can leave it unspecified or, as I've done here, assign it `None`."
   ]
  },
  {
   "cell_type": "code",
   "execution_count": 5,
   "metadata": {},
   "outputs": [
    {
     "name": "stdout",
     "output_type": "stream",
     "text": [
      "{'created_at': u'2019-03-05T22:12:22.202Z',\n",
      " 'description': None,\n",
      " 'href': u'/workbooks/A9BD8616-633C-4755-8527-9EBEBD420809/worksheets/692E9DBC-8C27-40D3-9A69-D3EC50CC001C',\n",
      " 'id': u'692E9DBC-8C27-40D3-9A69-D3EC50CC001C',\n",
      " 'is_archived': False,\n",
      " 'name': u'API Created Document 1',\n",
      " 'report': None,\n",
      " 'status_message': None,\n",
      " 'type': u'Worksheet',\n",
      " 'updated_at': u'2019-03-05T22:12:22.202Z',\n",
      " 'workstep': None}\n"
     ]
    }
   ],
   "source": [
    "document_input = sdk.WorksheetInputV1()\n",
    "document_input.name = 'API Created Document 1'\n",
    "document_input.branchFrom = None\n",
    "\n",
    "document_output = workbook_api.create_worksheet(workbook_id=topic_output.id,\n",
    "                                                body=document_input)\n",
    "print(document_output)"
   ]
  },
  {
   "cell_type": "markdown",
   "metadata": {},
   "source": [
    "### Create a Workstep\n",
    "Now that we have a Organizer Topic and document, we need to create a Workstep that will tell Seeq the configuration of the Document. Data about the Workstep configuration are stored in a dataStore.  This isn't the text of the document, but the state of other aspects, such as date ranges or, in the case of a Workbench Analysis, the display range and line colors.\n",
    "\n",
    "The dataStore is a collection of JSON objects. We can specify any objects that we want to defined and the rest will be populated with default values.  For this example, I am going to define two date ranges that I want stored in the Workstep."
   ]
  },
  {
   "cell_type": "markdown",
   "metadata": {},
   "source": [
    "To create the date ranges, I'm going to define a function that takes in lists of start times and end times and populates an empty dateVariable dataStore.  The structure of a dataStore can always be found by looking at the `data` element of a Workstep retrieved through the API reference.\n",
    "\n",
    "I'll start with the doc string and some constants, including a template of the dateVariable dataStore taken from the Workstep of any Organizer Topic or Workbench Analysis without a defined date range. Next I will move through the input start and end times and populate a new dateVariable dataStore for each pair.  dateVariables are passed in a list in the sqReportStore, hence the final wrapping in `sqReportStore`.  Note the double squiggly brackets (`{{}}`) for escaping when using `format` on JSON objects.  I also return a dictionary with the data range info that is a bit easier to navigate for reference when embedding the Metrics."
   ]
  },
  {
   "cell_type": "code",
   "execution_count": 6,
   "metadata": {},
   "outputs": [],
   "source": [
    "def date_variables_create(start_date, end_date, name=None):\n",
    "    \"\"\"\n",
    "    Creates date variables for a report store.  Input lists of start and end dates to \n",
    "    generate a store with multiple date ranges\n",
    "    Dates should be in ISO 8601 format: yyyy-MM-DDThh:mm:ss.ffffff.\n",
    "    Note: nanoseconds are not supported, the highest precision in microseconds.\n",
    "    Note: Timezone is not supported.  Convert to UTC before inputting\n",
    "    \n",
    "    :param start_date:  list of start times as ISO 8601 strings\n",
    "    :param end_date: list of end times as ISO 8601 strings\n",
    "    :param name: (optional) list of string names for the date ranges. Defaults to \"API Created Date Range #\"\n",
    "    :return: the dateVariables with the sqReportStore wrapper\n",
    "    \"\"\"\n",
    "\n",
    "    ms_per_second = 1000\n",
    "    time_format = '%Y-%m-%dT%H:%M:%S.%f'\n",
    "    epoch_start = dt(1970, 1, 1)\n",
    "    default_name = \"API Created Date Range {0}\"\n",
    "    date_variable_template = \\\n",
    "        '{\\\n",
    "            \"id\":\"uuid\",\\\n",
    "            \"name\":\"name\",\\\n",
    "            \"range\":\\\n",
    "            {\\\n",
    "                \"start\":0,\\\n",
    "                \"end\":0\\\n",
    "            },\\\n",
    "            \"auto\":\\\n",
    "            {\\\n",
    "                \"enabled\":false,\\\n",
    "                \"duration\":0,\\\n",
    "                \"offset\":\\\n",
    "                {\\\n",
    "                    \"value\":0,\\\n",
    "                    \"units\":\"min\"\\\n",
    "                },\\\n",
    "                \"offsetDirection\":\"past\",\\\n",
    "                \"rate\":\\\n",
    "                {\\\n",
    "                    \"value\":5,\\\n",
    "                    \"units\":\"min\"\\\n",
    "                }\\\n",
    "            },\\\n",
    "            \"condition\":\\\n",
    "            {\\\n",
    "                \"strategy\":\"closestTo\",\\\n",
    "                \"reference\":\"end\",\\\n",
    "                \"offset\":1\\\n",
    "            }\\\n",
    "        }'\n",
    "\n",
    "    date_variable_json = json.loads(date_variable_template)\n",
    "    \n",
    "    # If only single start and end dates were passed, wrap them in a list for iteration\n",
    "    if not isinstance(start_date, list):\n",
    "        start_date = [start_date]\n",
    "\n",
    "    if not isinstance(end_date, list):\n",
    "        end_date = [end_date]\n",
    "    \n",
    "    # assign default names if none are given\n",
    "    if name is None:\n",
    "        name = [default_name.format(i+1) for i in range(len(start_date))]\n",
    "    elif not isinstance(name, list):\n",
    "        name = [name]\n",
    "    \n",
    "    assert(len(start_date) == len(name) and len(start_date) == len(end_date))\n",
    "\n",
    "    date_variables = ''\n",
    "    date_range_info = {}\n",
    "\n",
    "    for s, e, n in zip(start_date, end_date, name):\n",
    "        start_ms_timestamp = \\\n",
    "            (dt.strptime(s, time_format) - epoch_start).total_seconds() * ms_per_second\n",
    "        end_ms_timestamp =  \\\n",
    "            (dt.strptime(e, time_format) - epoch_start).total_seconds() * ms_per_second\n",
    "        ID = uuid4()\n",
    "        current_date_variable = copy.copy(date_variable_json)\n",
    "        current_date_variable['id'] = str(ID)\n",
    "        current_date_variable['name'] = n\n",
    "        current_date_variable['range']['start'] = start_ms_timestamp\n",
    "        current_date_variable['range']['end'] = end_ms_timestamp        \n",
    "        # append to the list\n",
    "        date_variables += (json.dumps(current_date_variable) + ',')\n",
    "        # add to the info by name\n",
    "        date_range_info[n] = {'id': ID, 'start_ms': start_ms_timestamp, 'end_ms': end_ms_timestamp,\n",
    "                             'start_iso': s, 'end_iso': e}\n",
    "\n",
    "    # remove the trailing comma on the last one\n",
    "    date_variables = date_variables[:-1]\n",
    "    \n",
    "    # return the ReportStore\n",
    "    return '\"sqReportStore\":{{\"dateVariables\":[{0}]}}'.format(date_variables), date_range_info"
   ]
  },
  {
   "cell_type": "markdown",
   "metadata": {},
   "source": [
    "Now that I can create sqReportStores, I'll create one with two date ranges.  Note that while the Seeq Backend works in nanoseconds, the Frontend works in microseconds, a limitation inherited from Javascript."
   ]
  },
  {
   "cell_type": "code",
   "execution_count": 7,
   "metadata": {},
   "outputs": [
    {
     "name": "stdout",
     "output_type": "stream",
     "text": [
      "('\"sqReportStore\":{\"dateVariables\":[{\"auto\": {\"duration\": 0, \"rate\": {\"units\": \"min\", \"value\": 5}, \"offsetDirection\": \"past\", \"enabled\": false, \"offset\": {\"units\": \"min\", \"value\": 0}}, \"range\": {\"start\": 1544572800000.0, \"end\": 1544832000000.0}, \"id\": \"95f06f64-1117-4eb2-b3cb-f47aa413be45\", \"condition\": {\"offset\": 1, \"reference\": \"end\", \"strategy\": \"closestTo\"}, \"name\": \"API Created Date Range 1\"},{\"auto\": {\"duration\": 0, \"rate\": {\"units\": \"min\", \"value\": 5}, \"offsetDirection\": \"past\", \"enabled\": false, \"offset\": {\"units\": \"min\", \"value\": 0}}, \"range\": {\"start\": 1546695138934.002, \"end\": 1546702338934.002}, \"id\": \"64efd6ad-3831-48b9-9194-bcb28a985756\", \"condition\": {\"offset\": 1, \"reference\": \"end\", \"strategy\": \"closestTo\"}, \"name\": \"API Created Date Range 2\"}]}', {'API Created Date Range 2': {'end_iso': '2019-01-05T15:32:18.934002', 'start_iso': '2019-01-05T13:32:18.934002', 'end_ms': 1546702338934.002, 'id': UUID('64efd6ad-3831-48b9-9194-bcb28a985756'), 'start_ms': 1546695138934.002}, 'API Created Date Range 1': {'end_iso': '2018-12-15T00:00:00.000000', 'start_iso': '2018-12-12T00:00:00.000000', 'end_ms': 1544832000000.0, 'id': UUID('95f06f64-1117-4eb2-b3cb-f47aa413be45'), 'start_ms': 1544572800000.0}})\n"
     ]
    }
   ],
   "source": [
    "starts = ['2018-12-12T00:00:00.000000', '2019-01-05T13:32:18.934002']\n",
    "ends = ['2018-12-15T00:00:00.000000', '2019-01-05T15:32:18.934002']\n",
    "\n",
    "sq_report_store = date_variables_create(starts, ends)\n",
    "print(sq_report_store)"
   ]
  },
  {
   "cell_type": "markdown",
   "metadata": {},
   "source": [
    "Now that we have our desired starting point stores, I'll create a new Workstep, defining only these stores.  The version number was acquired from the empty dataStore I used as my template.  Again note the double curly braces (`{{}}`) since I'm formating using `format`."
   ]
  },
  {
   "cell_type": "code",
   "execution_count": 8,
   "metadata": {},
   "outputs": [
    {
     "name": "stdout",
     "output_type": "stream",
     "text": [
      "{'created_at': u'2019-03-05T22:12:22.311Z',\n",
      " 'data': u'{\"version\":23,\"state\":{\"stores\":{\"sqReportStore\":{\"dateVariables\":[{\"auto\": {\"duration\": 0, \"rate\": {\"units\": \"min\", \"value\": 5}, \"offsetDirection\": \"past\", \"enabled\": false, \"offset\": {\"units\": \"min\", \"value\": 0}}, \"range\": {\"start\": 1544572800000.0, \"end\": 1544832000000.0}, \"id\": \"95f06f64-1117-4eb2-b3cb-f47aa413be45\", \"condition\": {\"offset\": 1, \"reference\": \"end\", \"strategy\": \"closestTo\"}, \"name\": \"API Created Date Range 1\"},{\"auto\": {\"duration\": 0, \"rate\": {\"units\": \"min\", \"value\": 5}, \"offsetDirection\": \"past\", \"enabled\": false, \"offset\": {\"units\": \"min\", \"value\": 0}}, \"range\": {\"start\": 1546695138934.002, \"end\": 1546702338934.002}, \"id\": \"64efd6ad-3831-48b9-9194-bcb28a985756\", \"condition\": {\"offset\": 1, \"reference\": \"end\", \"strategy\": \"closestTo\"}, \"name\": \"API Created Date Range 2\"}]}}}}',\n",
      " 'description': None,\n",
      " 'href': u'/workbooks/A9BD8616-633C-4755-8527-9EBEBD420809/worksheets/692E9DBC-8C27-40D3-9A69-D3EC50CC001C/worksteps/9A3C9C5F-340F-487D-823A-05B5EF387D80',\n",
      " 'id': u'9A3C9C5F-340F-487D-823A-05B5EF387D80',\n",
      " 'is_archived': False,\n",
      " 'last': u'/workbooks/A9BD8616-633C-4755-8527-9EBEBD420809/worksheets/692E9DBC-8C27-40D3-9A69-D3EC50CC001C/worksteps/9A3C9C5F-340F-487D-823A-05B5EF387D80',\n",
      " 'name': u'workstep',\n",
      " 'next': None,\n",
      " 'previous': None,\n",
      " 'status_message': None,\n",
      " 'type': u'Workstep'}\n"
     ]
    }
   ],
   "source": [
    "topic_workstep_input = sdk.WorkstepInputV1()\n",
    "topic_workstep_input.data = '{{\"version\":23,\"state\":{{\"stores\":{{{0}}}}}}}'.format(sq_report_store[0])\n",
    "\n",
    "topic_workstep_output = workbook_api.create_workstep(workbook_id=topic_output.id,\n",
    "                                                     worksheet_id=document_output.id,\n",
    "                                                     body=topic_workstep_input)\n",
    "print(topic_workstep_output)"
   ]
  },
  {
   "cell_type": "markdown",
   "metadata": {},
   "source": [
    "### Creating Content\n",
    "Next step is to create some content, which we will do through the Annotations API.  The annotation we generate will hold the html that is our document content.  Annotations are used in Seeq for both Topics and Journals, and this one will be created with the type specified as `Report` to indicate it's a Topic Annotation.  The default is `Journal`.\n",
    "\n",
    "The `interests` list should only have the Worksheet ID of the Topic document.  This tells Seeq to display this Annotation in that document."
   ]
  },
  {
   "cell_type": "code",
   "execution_count": 9,
   "metadata": {},
   "outputs": [
    {
     "name": "stdout",
     "output_type": "stream",
     "text": [
      "{'access_level': u'FULL_CONTROL',\n",
      " 'backups': [],\n",
      " 'created_at': u'2019-03-05T22:12:22.345Z',\n",
      " 'created_by': {'href': u'/users/7311CCDB-8572-4BB9-962A-E91D97095B8F',\n",
      "                'id': u'7311CCDB-8572-4BB9-962A-E91D97095B8F',\n",
      "                'is_archived': False,\n",
      "                'name': u'Seth Gilchrist',\n",
      "                'type': u'User'},\n",
      " 'description': None,\n",
      " 'discoverable': False,\n",
      " 'document': None,\n",
      " 'href': u'/annotations/F9788407-7C3A-478B-9F2F-808487BC50D7',\n",
      " 'id': u'F9788407-7C3A-478B-9F2F-808487BC50D7',\n",
      " 'interests': [{'capsule': None,\n",
      "                'item': {'href': u'/workbooks/A9BD8616-633C-4755-8527-9EBEBD420809/worksheets/692E9DBC-8C27-40D3-9A69-D3EC50CC001C',\n",
      "                         'id': u'692E9DBC-8C27-40D3-9A69-D3EC50CC001C',\n",
      "                         'is_archived': False,\n",
      "                         'name': u'API Created Document 1',\n",
      "                         'type': u'Worksheet'}}],\n",
      " 'is_archived': False,\n",
      " 'name': u'Unnammed',\n",
      " 'published_at': None,\n",
      " 'replies': [],\n",
      " 'replies_to': None,\n",
      " 'status_message': None,\n",
      " 'type': u'Report',\n",
      " 'updated_at': u'2019-03-05T22:12:22.345Z'}\n"
     ]
    }
   ],
   "source": [
    "annotation_input = sdk.AnnotationInputV1()\n",
    "\n",
    "annotations_interested_input = sdk.AnnotationInterestInputV1()\n",
    "annotations_interested_input.interest_id = document_output.id\n",
    "annotation_input.interests = [annotations_interested_input]\n",
    "\n",
    "annotation_input.type = \"Report\"\n",
    "annotation_input.name = \"Unnammed\"\n",
    "\n",
    "annotations_api = sdk.AnnotationsApi(api_client)\n",
    "annotation_output = annotations_api.create_annotation(body=annotation_input)\n",
    "print(annotation_output)"
   ]
  },
  {
   "cell_type": "markdown",
   "metadata": {},
   "source": [
    "Now that we have the Annotation ID, lets load it with some content.  I'm going to make an html template using Jinja2.  Normally the html template would be specified in an external file, but for this demo, I'm going to define it in-line."
   ]
  },
  {
   "cell_type": "code",
   "execution_count": 10,
   "metadata": {},
   "outputs": [],
   "source": [
    "html_template = r'\\\n",
    "<p>\\\n",
    "    <a href=\"{{image_source}}\">\\\n",
    "        <img src=\"{{image_source}}\" style=\"width: {{width_percent}}%;\\\">\\\n",
    "    </a>\\\n",
    "    <br>\\\n",
    "    {{image_caption}}\\\n",
    "</p>'\n",
    "\n",
    "jinja_environment = ji.Environment(loader=ji.BaseLoader).from_string(html_template)\n",
    "\n",
    "html_document = jinja_environment.render(\n",
    "    image_source=r\"https://upload.wikimedia.org/wikipedia/commons/thumb/a/a5/Glazed-Donut.jpg/1920px-Glazed-Donut.jpg\",\n",
    "    width_percent=20,\n",
    "    image_caption=\"Seeqing for the Breakfast of Champions!!\")"
   ]
  },
  {
   "cell_type": "markdown",
   "metadata": {},
   "source": [
    "When we update the annotation, we must specify the name and re-specify the interested-in list, otherwise the connection between our document and the Annotation will be lost."
   ]
  },
  {
   "cell_type": "code",
   "execution_count": 11,
   "metadata": {},
   "outputs": [
    {
     "name": "stdout",
     "output_type": "stream",
     "text": [
      "{'access_level': u'FULL_CONTROL',\n",
      " 'backups': [],\n",
      " 'created_at': u'2019-03-05T22:12:22.345Z',\n",
      " 'created_by': {'href': u'/users/7311CCDB-8572-4BB9-962A-E91D97095B8F',\n",
      "                'id': u'7311CCDB-8572-4BB9-962A-E91D97095B8F',\n",
      "                'is_archived': False,\n",
      "                'name': u'Seth Gilchrist',\n",
      "                'type': u'User'},\n",
      " 'description': None,\n",
      " 'discoverable': False,\n",
      " 'document': None,\n",
      " 'href': u'/annotations/F9788407-7C3A-478B-9F2F-808487BC50D7',\n",
      " 'id': u'F9788407-7C3A-478B-9F2F-808487BC50D7',\n",
      " 'interests': [{'capsule': None,\n",
      "                'item': {'href': u'/workbooks/A9BD8616-633C-4755-8527-9EBEBD420809/worksheets/692E9DBC-8C27-40D3-9A69-D3EC50CC001C',\n",
      "                         'id': u'692E9DBC-8C27-40D3-9A69-D3EC50CC001C',\n",
      "                         'is_archived': False,\n",
      "                         'name': u'API Created Document 1',\n",
      "                         'type': u'Worksheet'}}],\n",
      " 'is_archived': False,\n",
      " 'name': u'Unnamed',\n",
      " 'published_at': None,\n",
      " 'replies': [],\n",
      " 'replies_to': None,\n",
      " 'status_message': None,\n",
      " 'type': u'Report',\n",
      " 'updated_at': u'2019-03-05T22:12:22.506Z'}\n"
     ]
    }
   ],
   "source": [
    "annotation_update_input = sdk.AnnotationInputV1()\n",
    "annotation_update_input.name = \"Unnamed\"\n",
    "annotation_update_input.type = \"Report\"\n",
    "annotation_update_input.createdById = \"Seth Gilchrist\"\n",
    "annotation_update_input.interests = [annotations_interested_input]\n",
    "annotation_update_input.document = html_document\n",
    "\n",
    "annotation_update_output = annotations_api.update_annotation(id=annotation_output.id, body=annotation_update_input)\n",
    "print(annotation_update_output)"
   ]
  },
  {
   "cell_type": "markdown",
   "metadata": {},
   "source": [
    "### Summary of Topic Creation\n",
    "There you have it!  If you visit Seeq you'll find the document in place, with date ranges as specified, and a picture of everyone's favorite breakfast food.\n",
    "\n",
    "You can embed many different kinds of content, including Seeq content, into documents using these techniques.  To learn how to include Seeq content in your organizer topic, take a look at the _Embedding Metrics and Trends using the API_ tutorial."
   ]
  },
  {
   "cell_type": "markdown",
   "metadata": {},
   "source": [
    "## Creating a Scorecards and Trends and Putting them into an Organizer Topic Document\n",
    "Assuming that we have an Organizer Topic and a document that we can add content to, let's create a scorecard Metric and place it in the document."
   ]
  },
  {
   "cell_type": "markdown",
   "metadata": {},
   "source": [
    "The basic process for creating a Metric and putting it into a document is:\n",
    "1. Create a Workbench Analysis Worksheet to display the Metric.\n",
    "1. Create a Metric for our signal based on a condition and aggregation method.\n",
    "1. Update the Worksheet with the metric information.\n",
    "1. Generate a screenshot of the metric based on the Date Range.\n",
    "1. Embed the screenshot into the Organizer Topic document."
   ]
  },
  {
   "cell_type": "markdown",
   "metadata": {},
   "source": [
    "### Creating a Workbench Analysis\n",
    "The Workbench Analysis is created in a very similar manner to the Organizer Topic.  I will not go into detail on creating the analysis, as there is another how-to focused on that.  We will leave the Workstep uninitialized and create it after we have our Metric."
   ]
  },
  {
   "cell_type": "code",
   "execution_count": 12,
   "metadata": {},
   "outputs": [
    {
     "name": "stdout",
     "output_type": "stream",
     "text": [
      "Workbook ID: 3039CCCF-FD4A-4A1F-83A8-280F9537AF50\n",
      "Worksheet ID: BEFDCADE-3A31-49A3-A9FA-82DFAF85C94E\n"
     ]
    }
   ],
   "source": [
    "# create the Analysis\n",
    "analysis_input = sdk.WorkbookInputV1()\n",
    "analysis_input.name = \"API Created Analysis\"\n",
    "analysis_output = workbook_api.create_workbook(body=analysis_input)\n",
    "\n",
    "# create the worksheet\n",
    "worksheet_input = sdk.WorksheetInputV1()\n",
    "worksheet_input.name = \"API Created Worksheet\"\n",
    "worksheet_output = workbook_api.create_worksheet(workbook_id=analysis_output.id, body=worksheet_input)\n",
    "\n",
    "# set the initial workbook state\n",
    "analysis_property_input = sdk.PropertyInputV1()\n",
    "analysis_property_input.unit_of_measure = 'string'\n",
    "analysis_property_input.value = '{\"version\":1,\"state\":{\"stores\":{}}}'\n",
    "analysis_state_output = items_api.set_property(id=analysis_output.id,\n",
    "                                               property_name='workbookState',\n",
    "                                               body=analysis_property_input)\n",
    "print(\"Workbook ID: {0}\\nWorksheet ID: {1}\".format(analysis_output.id, worksheet_output.id))"
   ]
  },
  {
   "cell_type": "markdown",
   "metadata": {},
   "source": [
    "### Creating the Scorecard Metric\n",
    "To create the metric, we need to have a signal ID and a condition ID against which to perform our calculations, and a aggregation function that we want to use to summarize the signal over the condition's capsules.  I will get my IDs from the Seeq interface, but they could come from API generated signals and conditions as well.  To replicate my example, you can use the IDs of the signals and conditions defined below.\n",
    "\n",
    "Signal ID: ID of the example data `Example >> Cooling Tower 1 >> Area A >> Compressor Power`\n",
    "\n",
    "Condition ID: ID of a value search on the signal above with a formula of\n",
    "\n",
    "`$a.validValues().valueSearch(1day, isGreaterThan(25), 0min, isLessThanOrEqualTo(25), 0min)`\n",
    "\n",
    "Once we have these IDs, we can use the Metrics API endpoint to create our metric.  I will be aggregating over the maximum value of the signal during the capsules (hence `aggregation_function = maxValue()`), but other aggregators are available.  To find the formula for the one you are interested in, create a scorecard with your target aggregator and examine the items properties in Seeq.\n",
    "\n",
    "Note that `scoped_to` provides search scope for our metric, it's best to scope it to our Workbench Analysis so that it doesn't pollute other search locations. Also, instantiating `threasholds` to an empty list is required."
   ]
  },
  {
   "cell_type": "code",
   "execution_count": 13,
   "metadata": {},
   "outputs": [
    {
     "name": "stdout",
     "output_type": "stream",
     "text": [
      "{'aggregation_function': u'maxValue()',\n",
      " 'bounding_condition': {'ancestors': [],\n",
      "                        'href': u'/conditions/809E03A9-3949-4087-86D5-4B47FE3B2F8E',\n",
      "                        'id': u'809E03A9-3949-4087-86D5-4B47FE3B2F8E',\n",
      "                        'is_archived': False,\n",
      "                        'name': u'Value Search 1',\n",
      "                        'type': u'CalculatedCondition'},\n",
      " 'condition_thresholds': [],\n",
      " 'data_id': None,\n",
      " 'datasource_class': None,\n",
      " 'datasource_id': None,\n",
      " 'description': None,\n",
      " 'display_item': {'href': u'/signals/3D6E6754-80A3-4F43-9837-8BDFA15C85AC',\n",
      "                  'id': u'3D6E6754-80A3-4F43-9837-8BDFA15C85AC',\n",
      "                  'is_archived': False,\n",
      "                  'name': u'API Created Metric 1 Aggregation: maxValue()',\n",
      "                  'type': u'CalculatedSignal'},\n",
      " 'duration': None,\n",
      " 'href': u'/metrics/31C58612-1A48-4BDF-9980-F199AF883AB4',\n",
      " 'id': u'31C58612-1A48-4BDF-9980-F199AF883AB4',\n",
      " 'is_archived': False,\n",
      " 'measured_item': {'ancestors': [{'href': u'/assets/483D029A-21CF-4FD4-B94E-96490E672B6C',\n",
      "                                  'id': u'483D029A-21CF-4FD4-B94E-96490E672B6C',\n",
      "                                  'is_archived': False,\n",
      "                                  'name': u'Example',\n",
      "                                  'type': u'Asset'},\n",
      "                                 {'href': u'/assets/35ED9EF9-2C3F-4F1A-B555-74CF0C1BF767',\n",
      "                                  'id': u'35ED9EF9-2C3F-4F1A-B555-74CF0C1BF767',\n",
      "                                  'is_archived': False,\n",
      "                                  'name': u'Cooling Tower 1',\n",
      "                                  'type': u'Asset'},\n",
      "                                 {'href': u'/assets/9705C3E3-689B-43D5-AC5A-D47D089D47A2',\n",
      "                                  'id': u'9705C3E3-689B-43D5-AC5A-D47D089D47A2',\n",
      "                                  'is_archived': False,\n",
      "                                  'name': u'Area A',\n",
      "                                  'type': u'Asset'}],\n",
      "                   'href': u'/signals/5D9A8558-F592-4C3B-8361-D88FDD52F916',\n",
      "                   'id': u'5D9A8558-F592-4C3B-8361-D88FDD52F916',\n",
      "                   'is_archived': False,\n",
      "                   'name': u'Compressor Power',\n",
      "                   'type': u'StoredSignal'},\n",
      " 'name': u'API Created Metric 1',\n",
      " 'period': None,\n",
      " 'process_type': u'Condition',\n",
      " 'scoped_to': u'3039CCCF-FD4A-4A1F-83A8-280F9537AF50',\n",
      " 'status_message': None,\n",
      " 'thresholds': [],\n",
      " 'type': u'ThresholdMetric',\n",
      " 'value_unit_of_measure': u'kW'}\n"
     ]
    }
   ],
   "source": [
    "metric_input = sdk.ThresholdMetricInputV1()\n",
    "metric_input.name = 'API Created Metric 1'\n",
    "metric_input.measured_item = \"5D9A8558-F592-4C3B-8361-D88FDD52F916\"\n",
    "metric_input.bounding_condition = \"809E03A9-3949-4087-86D5-4B47FE3B2F8E\"\n",
    "metric_input.aggregation_function = \"maxValue()\"\n",
    "metric_input.scoped_to = analysis_output.id\n",
    "metric_input.thresholds = []\n",
    "\n",
    "metric_api = sdk.MetricsApi(api_client)\n",
    "metric_output = metric_api.create_threshold_metric(body=metric_input)\n",
    "print(metric_output)"
   ]
  },
  {
   "cell_type": "markdown",
   "metadata": {},
   "source": [
    "Now that the metric has been created, we will make a scorecard from it, which is done using a Workstep.  We will create a Workstep that shows the metric in a scorecard by applying appropriate values to two dateStores: the sqWorksheetStore, in which we set the `viewKey` to `SCORECARD` (an alternative being `TREND`) and an sqTrendMetricStore in which we tell Seeq how our Metric should be displayed.  You may want to play around with the `scorecardHeaders` to get them how you want."
   ]
  },
  {
   "cell_type": "code",
   "execution_count": 14,
   "metadata": {},
   "outputs": [
    {
     "name": "stdout",
     "output_type": "stream",
     "text": [
      "{'created_at': u'2019-03-05T22:12:22.800Z',\n",
      " 'data': u'{\"version\":23,\"state\":{\"stores\": {\"sqWorksheetStore\": {    \"tabsets\": {        \"sidebar\": 1    },    \"viewKey\": \"SCORECARD\",    \"browsePanelCollapsed\": false,    \"displayWidth\": 850,    \"displayHeight\": 575,    \"resizeEnabled\": true}, \"sqTrendMetricStore\": {\"items\": [{\"lane\": 2, \"selected\": false, \"rightAxis\": false, \"name\": \"API Created Metric 1\", \"sampleDisplayOption\": \"line\", \"yAxisConfig\": {\"max\": 1.14, \"min\": -1.14}, \"axisAutoScale\": true, \"axisVisibility\": true, \"yAxisMax\": 1, \"autoDisabled\": false, \"color\": \"#9D248F\", \"scorecardOrder\": 0, \"axisAlign\": \"B\", \"lineWidth\": 1, \"id\": \"31C58612-1A48-4BDF-9980-F199AF883AB4\", \"yAxisMin\": -1, \"dashStyle\": \"Solid\"}], \"warningCount\": 0, \"scorecardColumns\": [{\"type\": \"name\", \"backgroundColor\": \"#ffffff\"}], \"dataStatus\": \"itemDataPresent\", \"warningLogs\": [], \"scorecardHeaders\": {\"type\": \"start\", \"format\": \"lll\"}} } } }',\n",
      " 'description': None,\n",
      " 'href': u'/workbooks/3039CCCF-FD4A-4A1F-83A8-280F9537AF50/worksheets/BEFDCADE-3A31-49A3-A9FA-82DFAF85C94E/worksteps/9CC00475-0D01-4185-84A4-0C2F0B1FB345',\n",
      " 'id': u'9CC00475-0D01-4185-84A4-0C2F0B1FB345',\n",
      " 'is_archived': False,\n",
      " 'last': u'/workbooks/3039CCCF-FD4A-4A1F-83A8-280F9537AF50/worksheets/BEFDCADE-3A31-49A3-A9FA-82DFAF85C94E/worksteps/9CC00475-0D01-4185-84A4-0C2F0B1FB345',\n",
      " 'name': u'workstep',\n",
      " 'next': None,\n",
      " 'previous': None,\n",
      " 'status_message': None,\n",
      " 'type': u'Workstep'}\n"
     ]
    }
   ],
   "source": [
    "worksheet_store = '\\\n",
    "{\\\n",
    "    \"tabsets\": {\\\n",
    "        \"sidebar\": 1\\\n",
    "    },\\\n",
    "    \"viewKey\": \"SCORECARD\",\\\n",
    "    \"browsePanelCollapsed\": false,\\\n",
    "    \"displayWidth\": 850,\\\n",
    "    \"displayHeight\": 575,\\\n",
    "    \"resizeEnabled\": true\\\n",
    "}'\n",
    "\n",
    "trend_metric_template = '\\\n",
    "{\\\n",
    "    \"scorecardHeaders\": {\\\n",
    "        \"type\": \"start\",\\\n",
    "        \"format\": \"lll\"\\\n",
    "    },\\\n",
    "    \"scorecardColumns\": [\\\n",
    "        {\\\n",
    "            \"type\": \"name\",\\\n",
    "            \"backgroundColor\": \"#ffffff\"\\\n",
    "        }],\\\n",
    "    \"dataStatus\": \"itemDataPresent\",\\\n",
    "    \"warningCount\": 0,\\\n",
    "    \"warningLogs\": [],\\\n",
    "    \"items\": [\\\n",
    "        {\\\n",
    "            \"axisAlign\": \"B\",\\\n",
    "            \"axisAutoScale\": true,\\\n",
    "            \"lane\": 2,\\\n",
    "            \"rightAxis\": false,\\\n",
    "            \"dashStyle\": \"Solid\",\\\n",
    "            \"lineWidth\": 1,\\\n",
    "            \"autoDisabled\": false,\\\n",
    "            \"axisVisibility\": true,\\\n",
    "            \"yAxisConfig\": {\\\n",
    "              \"min\": -1.14,\\\n",
    "              \"max\": 1.14\\\n",
    "            },\\\n",
    "            \"yAxisMin\": -1,\\\n",
    "            \"yAxisMax\": 1,\\\n",
    "            \"sampleDisplayOption\": \"line\",\\\n",
    "            \"id\": \"ID\",\\\n",
    "            \"name\": \"name\",\\\n",
    "            \"selected\": false,\\\n",
    "            \"color\": \"#9D248F\",\\\n",
    "            \"scorecardOrder\": 0\\\n",
    "        }]\\\n",
    "}'\n",
    "\n",
    "trend_metric_json = json.loads(trend_metric_template)\n",
    "trend_metric_json['items'][0]['id'] = metric_output.id\n",
    "trend_metric_json['items'][0]['name'] = metric_output.name\n",
    "\n",
    "data_store = '{{\"sqWorksheetStore\": {0}, \"sqTrendMetricStore\": {1} }}'.format(worksheet_store, json.dumps(trend_metric_json))\n",
    "\n",
    "analysis_workstep_input = sdk.WorkstepInputV1()\n",
    "analysis_workstep_input.data = '{{\"version\":23,\"state\":{{\"stores\": {0} }} }}'.format(data_store)\n",
    "\n",
    "analysis_workstep_output = workbook_api.create_workstep(workbook_id=analysis_output.id,\n",
    "                                                        worksheet_id=worksheet_output.id,\n",
    "                                                        body=analysis_workstep_input)\n",
    "print(analysis_workstep_output)"
   ]
  },
  {
   "cell_type": "markdown",
   "metadata": {},
   "source": [
    "You can now surf over to Seeq, open the Analysis and see the scorecard that you've created."
   ]
  },
  {
   "cell_type": "markdown",
   "metadata": {},
   "source": [
    "### Creating a Trend View\n",
    "Creating scorecads is all well and good, but what about creating a trend view?  If we know what signals and conditions comprise a scorecard, then we can setup a trend showing them as well.\n",
    "\n",
    "This can be done 100% algorithmically, but I would recommend setting up the trend just how you like it, grabbing a copy of the worksheet dataStore, and using that as a template.  From there, you can swap signals in and out, but most likely you'll be modifying only the date range of the trend view."
   ]
  },
  {
   "cell_type": "markdown",
   "metadata": {},
   "source": [
    "A typical workflow for embedding both a scorecard and trend in a topic would be the following:\n",
    "* create the metric $\\checkmark$\n",
    "* create a Worksheet showing the metric $\\checkmark$\n",
    "* generate a screenshot of it (our next step)\n",
    "* update the Worksheet's Workstep to show the trend\n",
    "* generate a screenshot of that\n",
    "Using this workflow you have one Worksheet that is used for both the scorecard and trend views.\n",
    "\n",
    "While it's slightly out of sequence, I'm going to create the trend-view workstep now so that we can do the screenshots in quick succession."
   ]
  },
  {
   "cell_type": "markdown",
   "metadata": {},
   "source": [
    "Including signals in a trend view is done using the `sqTrendSeriesStore`, and including the condition is done using the `sqTrendCapsuleSetStore`.  Setting the view parameters happens in a few places in the dataStore, but the most important ones are in the `sqWorksheetStore`.  Let's define our parameters for these stores."
   ]
  },
  {
   "cell_type": "code",
   "execution_count": 17,
   "metadata": {},
   "outputs": [],
   "source": [
    "# We already have an sqWorksheetStore template, so we'll just update it.\n",
    "worksheet_store_json = json.loads(worksheet_store)\n",
    "worksheet_store_json['viewKey'] = \"TREND\"\n",
    "\n",
    "# now for the other two\n",
    "trend_series_store = '\\\n",
    "{\\\n",
    "    \"items\": [\\\n",
    "        {\\\n",
    "            \"axisAlign\": \"A\",\\\n",
    "            \"axisAutoScale\": true,\\\n",
    "            \"lane\": 1,\\\n",
    "            \"rightAxis\": false,\\\n",
    "            \"dashStyle\": \"Solid\",\\\n",
    "            \"lineWidth\": 1,\\\n",
    "            \"autoDisabled\": false,\\\n",
    "            \"axisVisibility\": true,\\\n",
    "            \"yAxisConfig\": {\\\n",
    "              \"min\": -1.2482005542500003,\\\n",
    "              \"max\": 37.00042770425\\\n",
    "            },\\\n",
    "            \"yAxisMin\": 0.0029228,\\\n",
    "            \"yAxisMax\": 35.74930435,\\\n",
    "            \"sampleDisplayOption\": \"line\",\\\n",
    "            \"id\": \"\",\\\n",
    "            \"name\": \"\",\\\n",
    "            \"selected\": false,\\\n",
    "            \"color\": \"#E1498E\",\\\n",
    "            \"valueUnitOfMeasure\": \"\"\\\n",
    "          }\\\n",
    "    ],\\\n",
    "        \"editingId\": null,\\\n",
    "        \"previewSeriesDefinition\": {}\\\n",
    "}'\n",
    "trend_series_json = json.loads(trend_series_store)\n",
    "# everything we need to know about the series we want to show is in metric_output, except for the unit of measure.\n",
    "# However, the metric has the same UOM as the measured item, so we'll just use that.\n",
    "trend_series_json['items'][0]['id'] = metric_output.measured_item.id\n",
    "trend_series_json['items'][0]['name'] = metric_output.measured_item.name\n",
    "trend_series_json['items'][0]['valueUnitOfMeasure'] = metric_output.value_unit_of_measure\n",
    "\n",
    "trend_capsule_set_store = '\\\n",
    "{\\\n",
    "    \"items\": [\\\n",
    "        {\\\n",
    "            \"autoDisabled\": false,\\\n",
    "            \"id\": \"ID\",\\\n",
    "            \"name\": \"\",\\\n",
    "            \"selected\": false,\\\n",
    "            \"color\": \"#00A2DD\"\\\n",
    "         }\\\n",
    "    ]\\\n",
    "}'\n",
    "trend_capsule_set_json = json.loads(trend_capsule_set_store)\n",
    "# again, let's get all the info we need from metric_output\n",
    "trend_capsule_set_json['items'][0]['id'] = metric_output.bounding_condition.id\n",
    "trend_capsule_set_json['items'][0]['name'] = metric_output.bounding_condition.name\n",
    "\n",
    "data_store = '\\\n",
    "{{\\\n",
    "    \"version\":23,\\\n",
    "    \"state\":{{\\\n",
    "        \"stores\":{{\\\n",
    "            \"sqWorksheetStore\": {0},\\\n",
    "            \"sqTrendSeriesStore\": {1},\\\n",
    "            \"sqTrendCapsuleSetStore\": {2}\\\n",
    "        }}\\\n",
    "    }}\\\n",
    "}}'.format(json.dumps(worksheet_store_json), json.dumps(trend_series_json), json.dumps(trend_capsule_set_json))\n",
    "\n",
    "trend_workstep_input = sdk.WorkstepInputV1()\n",
    "trend_workstep_input.data = data_store"
   ]
  },
  {
   "cell_type": "markdown",
   "metadata": {},
   "source": [
    "Now that we have our trend view Workstep defined, let's move on to creating the screenshots."
   ]
  },
  {
   "cell_type": "markdown",
   "metadata": {},
   "source": [
    "### Obtaining a Screenshot for an Organizer Topic Document\n",
    "The Organizer Topics use linked screenshots to display content.  This has the advantage of appearing as immutable content in the Topic document and using the existing Workbench Analysis rendering capabilities to generate the trends and tables."
   ]
  },
  {
   "cell_type": "markdown",
   "metadata": {},
   "source": [
    "Screenshots are created using the Jobs API endpoint.  The Jobs API setups the Worksheet containing the scorecard to a specific date range, followed by a \"headless capture\".  That is, it renders the web page in memory and saves a screenshot without ever displaying it.\n",
    "\n",
    "The endpoint determines the date range to use for the screenshot from a capsule-producing formula, which is set in `range_formula`.  For scorecards, the `content_selector` must be set to `.screenshotSizeToContent` to ensure that the returned screenshot only shows the scorecard.  Note that when `content_selector` is set to `.screenshotSizeToContent`, the `height` and `width` parameters are ignored, even though they are required.\n",
    "\n",
    "In the following screenshot, I will use one of the date ranges created in _Creating Organizer Topics using the API_ in which I stored the date range name, id, and start/end ISO8601 timestamps from an API created date range.  You will need these elements when creating and embedding the scorecard in the Topic document. I saved the date ranges in `date_range_info` previously."
   ]
  },
  {
   "cell_type": "code",
   "execution_count": 49,
   "metadata": {},
   "outputs": [
    {
     "name": "stdout",
     "output_type": "stream",
     "text": [
      "{'end': u'2018-12-15T00:00:00Z',\n",
      " 'height': 67,\n",
      " 'screenshot': u'/screenshots/_present_3039cccf-fd4a-4a1f-83a8-280f9537af50_befdcade-3a31-49a3-a9fa-82dfaf85c94e_b97155b3_1551829124603.png',\n",
      " 'start': u'2018-12-12T00:00:00Z',\n",
      " 'status_message': None,\n",
      " 'width': 670}\n"
     ]
    }
   ],
   "source": [
    "# dictonary with structure {'id': str, 'start_ms': int, 'end_ms': int, 'start_iso': str, 'end_iso': str}\n",
    "screenshot_date_range = sq_report_store[1]['API Created Date Range 1']\n",
    "\n",
    "range_formula = 'capsule(\"{0}Z\", \"{1}Z\")'.format(screenshot_date_range['start_iso'], screenshot_date_range['end_iso'])\n",
    "\n",
    "jobs_api = sdk.JobsApi(api_client)\n",
    "metric_screenshot_job_output = jobs_api.get_screenshot(\n",
    "    worksheet_id=worksheet_output.id,\n",
    "    workstep_id=analysis_workstep_output.id,\n",
    "    content_selector='.screenshotSizeToContent',\n",
    "    range_formula=range_formula,\n",
    "    height=100, width=100)\n",
    "print(metric_screenshot_job_output)"
   ]
  },
  {
   "cell_type": "markdown",
   "metadata": {},
   "source": [
    "The property `screenshot` of `screenshot_job_output` contains the internal URL of our screenshot."
   ]
  },
  {
   "cell_type": "markdown",
   "metadata": {},
   "source": [
    "Now that we have the metric screenshot, let's update the workstep and get the trend screenshot.  Note that I'm omitting `content_selector`, updating the `workstep_id`, and setting the `height` and `width` to values I pre-determined.  You'll need to save the height and width values as the jobs endpoint only returns them when it sets them."
   ]
  },
  {
   "cell_type": "code",
   "execution_count": 46,
   "metadata": {},
   "outputs": [
    {
     "name": "stdout",
     "output_type": "stream",
     "text": [
      "{'end': u'2018-12-15T00:00:00Z',\n",
      " 'height': None,\n",
      " 'screenshot': u'/screenshots/_present_3039cccf-fd4a-4a1f-83a8-280f9537af50_befdcade-3a31-49a3-a9fa-82dfaf85c94e_7e3349cb_1551828934138.png',\n",
      " 'start': u'2018-12-12T00:00:00Z',\n",
      " 'status_message': None,\n",
      " 'width': None}\n"
     ]
    }
   ],
   "source": [
    "trend_workstep_output = workbook_api.create_workstep(workbook_id=analysis_output.id,\n",
    "                                                     worksheet_id=worksheet_output.id,\n",
    "                                                     body=trend_workstep_input)\n",
    "trend_width = 700\n",
    "trend_height = int(700./(16./9.)) # make a \"widescreen\" screenshot\n",
    "trend_screenshot_job_output = jobs_api.get_screenshot(\n",
    "    worksheet_id=worksheet_output.id,\n",
    "    workstep_id=trend_workstep_output.id,\n",
    "    range_formula=range_formula,\n",
    "    height=trend_height, width=trend_width)\n",
    "print(trend_screenshot_job_output)"
   ]
  },
  {
   "cell_type": "markdown",
   "metadata": {},
   "source": [
    "### Embedding the screenshots into a Topic Document\n",
    "Seeq content in Topic documents has a specific format, with custom html attributes.  To fill in the attributes, I'm going to create a Jinja2 template.  Typically these templates are hosted in external html files, but we'll create one from a string for clarity.  In addition to the attributes, we want a link to our image's source data to enable drill-down functionality, so I need to create a link to the source Worksheet.  Note that I create a new UUID for the image when I embed it.  This is for frontend content tracking."
   ]
  },
  {
   "cell_type": "code",
   "execution_count": 47,
   "metadata": {},
   "outputs": [],
   "source": [
    "seeq_content_html_tempate = '\\\n",
    "<p>\\\n",
    "<a href=\"{{worksheet_link}}\" class=\"\">\\\n",
    "    <img\\\n",
    "        id=\"{{image_id}}\"\\\n",
    "        data-seeq-content=\"\"\\\n",
    "        class=\"report-image-border fr-dii specReportSeeqContent fr-draggable\"\\\n",
    "        data-seeq-workbookid=\"{{workbook_id}}\"\\\n",
    "        data-seeq-worksheetid=\"{{worksheet_id}}\"\\\n",
    "        data-seeq-workstepid=\"{{workstep_id}}\"\\\n",
    "        data-seeq-datevariableid=\"{{date_variable_id}}\"\\\n",
    "        data-seeq-contentheight=\"{{content_height}}\"\\\n",
    "        data-seeq-contentwidth=\"{{content_width}}\"\\\n",
    "        src=\"{{screenshot_url}}\">\\\n",
    "</a>\\\n",
    "</p>'\n",
    "\n",
    "#  link creation\n",
    "protocol = 'http'\n",
    "host_url = 'localhost'\n",
    "host_port = 34216\n",
    "\n",
    "# scorecard link\n",
    "scorecard_worksheet_link = \\\n",
    "    r'{0}://{1}:{2}/view/worksheet/{3}/{4}?workstepId={5}&;displayRangeStart={6}&;displayRangeEnd={7}&;trendItems='.format(\n",
    "        protocol, host_url, host_port,\n",
    "        analysis_output.id,\n",
    "        worksheet_output.id,\n",
    "        analysis_workstep_output.id,\n",
    "        screenshot_date_range['start_iso'],\n",
    "        screenshot_date_range['end_iso'])\n",
    "\n",
    "# trend link\n",
    "trend_worksheet_link = \\\n",
    "    r'{0}://{1}:{2}/view/worksheet/{3}/{4}?workstepId={5}&;displayRangeStart={6}&;displayRangeEnd={7}&;trendItems='.format(\n",
    "        protocol, host_url, host_port, \n",
    "        analysis_output.id,\n",
    "        worksheet_output.id,\n",
    "        trend_workstep_output.id,\n",
    "        screenshot_date_range['start_iso'],\n",
    "        screenshot_date_range['end_iso'])\n",
    "\n",
    "jinja_seeq_environment = ji.Environment(loader=ji.BaseLoader).from_string(seeq_content_html_tempate)\n",
    "\n",
    "scorecard_html = jinja_seeq_environment.render(worksheet_link=scorecard_worksheet_link,\n",
    "                                               image_id=uuid4(),\n",
    "                                               workbook_id=analysis_output.id,\n",
    "                                               worksheet_id=worksheet_output.id,\n",
    "                                               workstep_id=analysis_workstep_output.id,\n",
    "                                               date_variable_id=screenshot_date_range['id'],\n",
    "                                               screenshot_url=metric_screenshot_job_output.screenshot,\n",
    "                                               content_height=metric_screenshot_job_output.height,\n",
    "                                               content_width=metric_screenshot_job_output.width)\n",
    "\n",
    "trend_html = jinja_seeq_environment.render(worksheet_link=trend_worksheet_link,\n",
    "                                           image_id=uuid4(), workbook_id=analysis_output.id,\n",
    "                                           worksheet_id=worksheet_output.id,\n",
    "                                           workstep_id=trend_workstep_output.id,\n",
    "                                           date_variable_id=screenshot_date_range['id'],\n",
    "                                           screenshot_url=trend_screenshot_job_output.screenshot,\n",
    "                                           content_height=trend_height,\n",
    "                                           content_width=trend_width)\n",
    "\n",
    "# now to combine them\n",
    "seeq_html = scorecard_html + trend_html"
   ]
  },
  {
   "cell_type": "markdown",
   "metadata": {},
   "source": [
    "The final step is to update our Annotation with the html we just created.  Details on these calls can be found in the companion how to _Creating Organizer Topics using the API_.  I will be reusing the `document_output` as well as the `annotation_output` items from that how-to.  These contain the IDs of the Topic document and Annotation that we created using the API."
   ]
  },
  {
   "cell_type": "code",
   "execution_count": 48,
   "metadata": {},
   "outputs": [
    {
     "name": "stdout",
     "output_type": "stream",
     "text": [
      "{'access_level': u'FULL_CONTROL',\n",
      " 'backups': [{'backup_date': u'2019-03-05T23:34:00Z',\n",
      "              'backup_name': u'DocumentBackup\\u02c9seth.gilchrist@seeq.com\\u02c92019-03-05T23:34:00Z',\n",
      "              'username': u'seth.gilchrist@seeq.com'},\n",
      "             {'backup_date': u'2019-03-05T23:32:00Z',\n",
      "              'backup_name': u'DocumentBackup\\u02c9seth.gilchrist@seeq.com\\u02c92019-03-05T23:32:00Z',\n",
      "              'username': u'seth.gilchrist@seeq.com'},\n",
      "             {'backup_date': u'2019-03-05T22:12:00Z',\n",
      "              'backup_name': u'DocumentBackup\\u02c9seth.gilchrist@seeq.com\\u02c92019-03-05T22:12:00Z',\n",
      "              'username': u'seth.gilchrist@seeq.com'}],\n",
      " 'created_at': u'2019-03-05T22:12:22.345Z',\n",
      " 'created_by': {'href': u'/users/7311CCDB-8572-4BB9-962A-E91D97095B8F',\n",
      "                'id': u'7311CCDB-8572-4BB9-962A-E91D97095B8F',\n",
      "                'is_archived': False,\n",
      "                'name': u'Seth Gilchrist',\n",
      "                'type': u'User'},\n",
      " 'description': None,\n",
      " 'discoverable': False,\n",
      " 'document': None,\n",
      " 'href': u'/annotations/F9788407-7C3A-478B-9F2F-808487BC50D7',\n",
      " 'id': u'F9788407-7C3A-478B-9F2F-808487BC50D7',\n",
      " 'interests': [{'capsule': None,\n",
      "                'item': {'href': u'/workbooks/A9BD8616-633C-4755-8527-9EBEBD420809/worksheets/692E9DBC-8C27-40D3-9A69-D3EC50CC001C',\n",
      "                         'id': u'692E9DBC-8C27-40D3-9A69-D3EC50CC001C',\n",
      "                         'is_archived': False,\n",
      "                         'name': u'API Created Document 1',\n",
      "                         'type': u'Worksheet'}}],\n",
      " 'is_archived': False,\n",
      " 'name': u'Unnamed',\n",
      " 'published_at': None,\n",
      " 'replies': [],\n",
      " 'replies_to': None,\n",
      " 'status_message': None,\n",
      " 'type': u'Report',\n",
      " 'updated_at': u'2019-03-05T23:35:37.526Z'}\n"
     ]
    }
   ],
   "source": [
    "seeq_data_annotation_input = sdk.AnnotationInputV1()\n",
    "seeq_data_annotation_input.name = \"Unnamed\"\n",
    "seeq_data_annotation_input.type = \"Report\"\n",
    "seeq_data_annotation_input.createdById = \"Seth Gilchrist\"\n",
    "\n",
    "seeq_data_annotation_interested_input = sdk.AnnotationInterestInputV1()\n",
    "seeq_data_annotation_interested_input.interest_id = document_output.id\n",
    "seeq_data_annotation_input.interests = [annotations_interested_input]\n",
    "\n",
    "seeq_data_annotation_input.document = seeq_html\n",
    "\n",
    "seeq_data_annotation_update_output = annotations_api.update_annotation(\n",
    "    id=annotation_output.id, body=seeq_data_annotation_input)\n",
    "print(seeq_data_annotation_update_output)"
   ]
  },
  {
   "cell_type": "markdown",
   "metadata": {},
   "source": [
    "You can now go to the Topic, open the document and find the scorecard, with all the Seeq frontend tools at your disposal."
   ]
  },
  {
   "cell_type": "markdown",
   "metadata": {},
   "source": [
    "## Taking the Next Step \n",
    "Using the same techniques, we can embed all the different kinds of Seeq content in to Topic documents.\n",
    "\n",
    "To explore different kinds of Seeq content, I encourage you to use the \"Inspect\" capability of Chrome to examine the html that the frontend uses and creates, and also to take a look at the different data stores in worksteps that you are interested in.  One useful method of understanding the effects of different operations is to use a diff tool (e.g., Meld) to examine changes made to the data store between operations.\n",
    "\n",
    "Once you have a feel for how the different operations and views manifest in the data store and html, it becomes possible to highly customize your views using the API and create a wide variety of content.\n",
    "\n",
    "As a final note, I'd like to point out that, as one of our developers, says, \"The frontend eats it's own dog food - everything the frontend does is done through the API.\" So the sky's the limit once you understand how data is stored and objects are represented."
   ]
  },
  {
   "cell_type": "markdown",
   "metadata": {},
   "source": [
    "## Contact Us!\n",
    "If you have questions, comments, or need more help or information, please reach out to your Seeq representative to get a team or 1:1 training on these tools.  We're here to help!"
   ]
  }
 ],
 "metadata": {
  "kernelspec": {
   "display_name": "Python 2",
   "language": "python",
   "name": "python2"
  },
  "language_info": {
   "codemirror_mode": {
    "name": "ipython",
    "version": 2
   },
   "file_extension": ".py",
   "mimetype": "text/x-python",
   "name": "python",
   "nbconvert_exporter": "python",
   "pygments_lexer": "ipython2",
   "version": "2.7.15"
  }
 },
 "nbformat": 4,
 "nbformat_minor": 2
}
